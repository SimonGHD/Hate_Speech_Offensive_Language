{
 "cells": [
  {
   "cell_type": "code",
   "execution_count": 1,
   "metadata": {},
   "outputs": [],
   "source": [
    "%load_ext autoreload\n",
    "%autoreload 2"
   ]
  },
  {
   "cell_type": "code",
   "execution_count": 2,
   "metadata": {},
   "outputs": [
    {
     "name": "stderr",
     "output_type": "stream",
     "text": [
      "c:\\users\\simon\\.conda\\envs\\interpret\\lib\\site-packages\\numpy\\core\\__init__.py:29: UserWarning: loaded more than 1 DLL from .libs:\n",
      "c:\\users\\simon\\.conda\\envs\\interpret\\lib\\site-packages\\numpy\\.libs\\libopenblas.IPBC74C7KURV7CB2PKT5Z5FNR3SIBV4J.gfortran-win_amd64.dll\n",
      "c:\\users\\simon\\.conda\\envs\\interpret\\lib\\site-packages\\numpy\\.libs\\libopenblas.PYQHXLVVQ7VESDPUVUADXEVJOBGHJPAY.gfortran-win_amd64.dll\n",
      "  stacklevel=1)\n"
     ]
    }
   ],
   "source": [
    "import pandas as pd"
   ]
  },
  {
   "cell_type": "code",
   "execution_count": 3,
   "metadata": {},
   "outputs": [],
   "source": [
    "import os\n",
    "\n",
    "cwd_nb = os.getcwd()\n",
    "\n",
    "cwd = os.path.dirname(cwd_nb)\n",
    "\n",
    "train = pd.read_csv(cwd + '/data/raw/train.tsv', sep='\\t', encoding='latin_1', header=None)\n",
    "\n",
    "train = train.dropna()\n",
    "train.columns = ['hate_speech', 'off_lang', 'text']\n",
    "#train.to_csv(output_filepath, sep='\\t', encoding='latin_1')"
   ]
  },
  {
   "cell_type": "code",
   "execution_count": 4,
   "metadata": {},
   "outputs": [],
   "source": [
    "from src.features import build_features"
   ]
  },
  {
   "cell_type": "code",
   "execution_count": 5,
   "metadata": {},
   "outputs": [
    {
     "data": {
      "text/plain": [
       "<function src.features.build_features.make_features(train, nlp_model)>"
      ]
     },
     "execution_count": 5,
     "metadata": {},
     "output_type": "execute_result"
    }
   ],
   "source": [
    "build_features.make_features"
   ]
  },
  {
   "cell_type": "code",
   "execution_count": 6,
   "metadata": {},
   "outputs": [
    {
     "name": "stderr",
     "output_type": "stream",
     "text": [
      "I0413 14:50:23.322857 96580 file_utils.py:39] PyTorch version 1.4.0 available.\n",
      "I0413 14:50:24.868918 96580 modeling_xlnet.py:194] Better speed can be achieved with apex installed from https://www.github.com/nvidia/apex .\n",
      "100%|█████████████████████████████████████████████████████████████████████████████████████████████████████████████████████████████████████████████████████████████████████████████████| 19826/19826 [03:13<00:00, 102.40it/s]\n"
     ]
    }
   ],
   "source": [
    "import en_core_web_lg\n",
    "\n",
    "features_lg, labels_off, labels_hate = build_features.make_features(train, en_core_web_lg.load())"
   ]
  },
  {
   "cell_type": "code",
   "execution_count": 10,
   "metadata": {
    "collapsed": true,
    "jupyter": {
     "outputs_hidden": true
    }
   },
   "outputs": [
    {
     "name": "stdout",
     "output_type": "stream",
     "text": [
      "2.2.4-tf\n",
      "1.14.0\n",
      "Num GPUs Available:  0\n",
      "Num GPUs Available:  0\n",
      "_________________________________________________________________\n",
      "Layer (type)                 Output Shape              Param #   \n",
      "=================================================================\n",
      "dense_5 (Dense)              (None, 300)               90300     \n",
      "_________________________________________________________________\n",
      "dense_6 (Dense)              (None, 100)               30100     \n",
      "_________________________________________________________________\n",
      "dense_7 (Dense)              (None, 50)                5050      \n",
      "_________________________________________________________________\n",
      "dense_8 (Dense)              (None, 1)                 51        \n",
      "=================================================================\n",
      "Total params: 125,501\n",
      "Trainable params: 125,501\n",
      "Non-trainable params: 0\n",
      "_________________________________________________________________\n",
      "None\n",
      "Epoch 1/100\n",
      "19826/19826 [==============================] - ETA: 1:50 - loss: 0.196 - ETA: 8s - loss: 0.3742  - ETA: 4s - loss: 0.409 - ETA: 3s - loss: 0.386 - ETA: 2s - loss: 0.382 - ETA: 1s - loss: 0.378 - ETA: 1s - loss: 0.365 - ETA: 1s - loss: 0.365 - ETA: 1s - loss: 0.366 - ETA: 1s - loss: 0.365 - ETA: 1s - loss: 0.360 - ETA: 0s - loss: 0.359 - ETA: 0s - loss: 0.356 - ETA: 0s - loss: 0.354 - ETA: 0s - loss: 0.355 - ETA: 0s - loss: 0.357 - ETA: 0s - loss: 0.355 - ETA: 0s - loss: 0.353 - ETA: 0s - loss: 0.349 - ETA: 0s - loss: 0.347 - ETA: 0s - loss: 0.346 - ETA: 0s - loss: 0.344 - ETA: 0s - loss: 0.342 - ETA: 0s - loss: 0.341 - ETA: 0s - loss: 0.340 - 2s 83us/step - loss: 0.3394\n",
      "Epoch 2/100\n",
      "19826/19826 [==============================] - ETA: 1s - loss: 0.256 - ETA: 1s - loss: 0.301 - ETA: 1s - loss: 0.340 - ETA: 0s - loss: 0.319 - ETA: 0s - loss: 0.311 - ETA: 0s - loss: 0.313 - ETA: 0s - loss: 0.305 - ETA: 0s - loss: 0.300 - ETA: 0s - loss: 0.302 - ETA: 0s - loss: 0.301 - ETA: 0s - loss: 0.299 - ETA: 0s - loss: 0.297 - ETA: 0s - loss: 0.296 - ETA: 0s - loss: 0.300 - ETA: 0s - loss: 0.300 - ETA: 0s - loss: 0.299 - ETA: 0s - loss: 0.302 - ETA: 0s - loss: 0.300 - ETA: 0s - loss: 0.299 - ETA: 0s - loss: 0.299 - ETA: 0s - loss: 0.299 - ETA: 0s - loss: 0.299 - ETA: 0s - loss: 0.301 - ETA: 0s - loss: 0.299 - ETA: 0s - loss: 0.303 - ETA: 0s - loss: 0.304 - ETA: 0s - loss: 0.304 - ETA: 0s - loss: 0.303 - 1s 73us/step - loss: 0.3032\n",
      "Epoch 3/100\n",
      "19826/19826 [==============================] - ETA: 2s - loss: 0.170 - ETA: 1s - loss: 0.265 - ETA: 1s - loss: 0.294 - ETA: 1s - loss: 0.283 - ETA: 1s - loss: 0.272 - ETA: 1s - loss: 0.278 - ETA: 1s - loss: 0.278 - ETA: 1s - loss: 0.284 - ETA: 1s - loss: 0.279 - ETA: 0s - loss: 0.293 - ETA: 0s - loss: 0.294 - ETA: 0s - loss: 0.293 - ETA: 0s - loss: 0.298 - ETA: 0s - loss: 0.292 - ETA: 0s - loss: 0.292 - ETA: 0s - loss: 0.295 - ETA: 0s - loss: 0.300 - ETA: 0s - loss: 0.297 - ETA: 0s - loss: 0.295 - ETA: 0s - loss: 0.294 - ETA: 0s - loss: 0.296 - ETA: 0s - loss: 0.294 - ETA: 0s - loss: 0.293 - ETA: 0s - loss: 0.291 - 1s 62us/step - loss: 0.2915\n",
      "Epoch 4/100\n",
      "19826/19826 [==============================] - ETA: 1s - loss: 0.283 - ETA: 1s - loss: 0.291 - ETA: 1s - loss: 0.266 - ETA: 1s - loss: 0.268 - ETA: 0s - loss: 0.266 - ETA: 0s - loss: 0.256 - ETA: 0s - loss: 0.257 - ETA: 0s - loss: 0.260 - ETA: 0s - loss: 0.262 - ETA: 0s - loss: 0.262 - ETA: 0s - loss: 0.269 - ETA: 0s - loss: 0.271 - ETA: 0s - loss: 0.273 - ETA: 0s - loss: 0.276 - ETA: 0s - loss: 0.276 - ETA: 0s - loss: 0.277 - ETA: 0s - loss: 0.278 - ETA: 0s - loss: 0.279 - ETA: 0s - loss: 0.281 - ETA: 0s - loss: 0.280 - 1s 53us/step - loss: 0.2810\n",
      "Epoch 5/100\n",
      "19826/19826 [==============================] - ETA: 2s - loss: 0.190 - ETA: 1s - loss: 0.272 - ETA: 1s - loss: 0.255 - ETA: 1s - loss: 0.272 - ETA: 1s - loss: 0.257 - ETA: 1s - loss: 0.265 - ETA: 0s - loss: 0.263 - ETA: 0s - loss: 0.265 - ETA: 0s - loss: 0.265 - ETA: 0s - loss: 0.268 - ETA: 0s - loss: 0.266 - ETA: 0s - loss: 0.268 - ETA: 0s - loss: 0.268 - ETA: 0s - loss: 0.272 - ETA: 0s - loss: 0.271 - ETA: 0s - loss: 0.270 - ETA: 0s - loss: 0.268 - ETA: 0s - loss: 0.268 - ETA: 0s - loss: 0.268 - ETA: 0s - loss: 0.267 - ETA: 0s - loss: 0.270 - 1s 55us/step - loss: 0.2714\n",
      "Epoch 6/100\n",
      "19826/19826 [==============================] - ETA: 1s - loss: 0.260 - ETA: 1s - loss: 0.277 - ETA: 1s - loss: 0.277 - ETA: 0s - loss: 0.270 - ETA: 0s - loss: 0.266 - ETA: 0s - loss: 0.266 - ETA: 0s - loss: 0.264 - ETA: 0s - loss: 0.260 - ETA: 0s - loss: 0.261 - ETA: 0s - loss: 0.264 - ETA: 0s - loss: 0.263 - ETA: 0s - loss: 0.267 - ETA: 0s - loss: 0.265 - ETA: 0s - loss: 0.261 - ETA: 0s - loss: 0.260 - ETA: 0s - loss: 0.259 - ETA: 0s - loss: 0.259 - ETA: 0s - loss: 0.260 - ETA: 0s - loss: 0.259 - ETA: 0s - loss: 0.260 - ETA: 0s - loss: 0.259 - 1s 54us/step - loss: 0.2592\n",
      "Epoch 7/100\n",
      "19826/19826 [==============================] - ETA: 1s - loss: 0.372 - ETA: 1s - loss: 0.248 - ETA: 1s - loss: 0.245 - ETA: 0s - loss: 0.239 - ETA: 0s - loss: 0.240 - ETA: 0s - loss: 0.241 - ETA: 0s - loss: 0.247 - ETA: 0s - loss: 0.249 - ETA: 0s - loss: 0.251 - ETA: 0s - loss: 0.252 - ETA: 0s - loss: 0.251 - ETA: 0s - loss: 0.251 - ETA: 0s - loss: 0.250 - ETA: 0s - loss: 0.251 - ETA: 0s - loss: 0.252 - ETA: 0s - loss: 0.250 - ETA: 0s - loss: 0.254 - ETA: 0s - loss: 0.255 - ETA: 0s - loss: 0.253 - ETA: 0s - loss: 0.252 - ETA: 0s - loss: 0.252 - ETA: 0s - loss: 0.251 - ETA: 0s - loss: 0.253 - 1s 59us/step - loss: 0.2533\n",
      "Epoch 8/100\n",
      "19826/19826 [==============================] - ETA: 1s - loss: 0.232 - ETA: 1s - loss: 0.258 - ETA: 1s - loss: 0.256 - ETA: 1s - loss: 0.251 - ETA: 0s - loss: 0.241 - ETA: 0s - loss: 0.240 - ETA: 0s - loss: 0.234 - ETA: 0s - loss: 0.239 - ETA: 0s - loss: 0.242 - ETA: 0s - loss: 0.245 - ETA: 0s - loss: 0.244 - ETA: 0s - loss: 0.252 - ETA: 0s - loss: 0.252 - ETA: 0s - loss: 0.253 - ETA: 0s - loss: 0.254 - ETA: 0s - loss: 0.253 - ETA: 0s - loss: 0.251 - ETA: 0s - loss: 0.253 - ETA: 0s - loss: 0.251 - ETA: 0s - loss: 0.251 - ETA: 0s - loss: 0.249 - ETA: 0s - loss: 0.249 - ETA: 0s - loss: 0.246 - ETA: 0s - loss: 0.247 - ETA: 0s - loss: 0.245 - ETA: 0s - loss: 0.245 - ETA: 0s - loss: 0.244 - 1s 70us/step - loss: 0.2443\n",
      "Epoch 9/100\n",
      "19826/19826 [==============================] - ETA: 1s - loss: 0.328 - ETA: 1s - loss: 0.256 - ETA: 1s - loss: 0.249 - ETA: 1s - loss: 0.233 - ETA: 1s - loss: 0.229 - ETA: 1s - loss: 0.225 - ETA: 1s - loss: 0.226 - ETA: 1s - loss: 0.222 - ETA: 1s - loss: 0.221 - ETA: 1s - loss: 0.222 - ETA: 1s - loss: 0.223 - ETA: 1s - loss: 0.221 - ETA: 0s - loss: 0.225 - ETA: 0s - loss: 0.229 - ETA: 0s - loss: 0.228 - ETA: 0s - loss: 0.229 - ETA: 0s - loss: 0.230 - ETA: 0s - loss: 0.230 - ETA: 0s - loss: 0.230 - ETA: 0s - loss: 0.230 - ETA: 0s - loss: 0.229 - ETA: 0s - loss: 0.227 - ETA: 0s - loss: 0.229 - ETA: 0s - loss: 0.231 - ETA: 0s - loss: 0.232 - ETA: 0s - loss: 0.230 - ETA: 0s - loss: 0.230 - ETA: 0s - loss: 0.230 - ETA: 0s - loss: 0.228 - 2s 76us/step - loss: 0.2283\n",
      "Epoch 10/100\n",
      "19826/19826 [==============================] - ETA: 1s - loss: 0.197 - ETA: 1s - loss: 0.212 - ETA: 1s - loss: 0.215 - ETA: 1s - loss: 0.209 - ETA: 1s - loss: 0.200 - ETA: 1s - loss: 0.196 - ETA: 1s - loss: 0.196 - ETA: 1s - loss: 0.195 - ETA: 0s - loss: 0.192 - ETA: 0s - loss: 0.198 - ETA: 0s - loss: 0.203 - ETA: 0s - loss: 0.206 - ETA: 0s - loss: 0.210 - ETA: 0s - loss: 0.207 - ETA: 0s - loss: 0.209 - ETA: 0s - loss: 0.213 - ETA: 0s - loss: 0.213 - ETA: 0s - loss: 0.213 - ETA: 0s - loss: 0.213 - ETA: 0s - loss: 0.212 - ETA: 0s - loss: 0.212 - ETA: 0s - loss: 0.214 - ETA: 0s - loss: 0.215 - ETA: 0s - loss: 0.215 - 1s 63us/step - loss: 0.2162\n",
      "Epoch 11/100\n",
      "19826/19826 [==============================] - ETA: 2s - loss: 0.096 - ETA: 1s - loss: 0.179 - ETA: 1s - loss: 0.168 - ETA: 1s - loss: 0.183 - ETA: 1s - loss: 0.178 - ETA: 1s - loss: 0.190 - ETA: 1s - loss: 0.194 - ETA: 1s - loss: 0.200 - ETA: 1s - loss: 0.196 - ETA: 1s - loss: 0.197 - ETA: 1s - loss: 0.198 - ETA: 1s - loss: 0.197 - ETA: 1s - loss: 0.195 - ETA: 1s - loss: 0.195 - ETA: 1s - loss: 0.197 - ETA: 1s - loss: 0.197 - ETA: 1s - loss: 0.202 - ETA: 1s - loss: 0.203 - ETA: 1s - loss: 0.204 - ETA: 1s - loss: 0.202 - ETA: 0s - loss: 0.204 - ETA: 0s - loss: 0.205 - ETA: 0s - loss: 0.204 - ETA: 0s - loss: 0.206 - ETA: 0s - loss: 0.205 - ETA: 0s - loss: 0.207 - ETA: 0s - loss: 0.208 - ETA: 0s - loss: 0.207 - ETA: 0s - loss: 0.207 - ETA: 0s - loss: 0.209 - ETA: 0s - loss: 0.209 - ETA: 0s - loss: 0.209 - ETA: 0s - loss: 0.208 - ETA: 0s - loss: 0.207 - ETA: 0s - loss: 0.207 - ETA: 0s - loss: 0.207 - ETA: 0s - loss: 0.207 - 2s 99us/step - loss: 0.2074\n",
      "Epoch 12/100\n",
      "19826/19826 [==============================] - ETA: 2s - loss: 0.127 - ETA: 1s - loss: 0.178 - ETA: 1s - loss: 0.181 - ETA: 1s - loss: 0.184 - ETA: 1s - loss: 0.188 - ETA: 1s - loss: 0.188 - ETA: 1s - loss: 0.184 - ETA: 1s - loss: 0.182 - ETA: 1s - loss: 0.185 - ETA: 1s - loss: 0.185 - ETA: 0s - loss: 0.186 - ETA: 0s - loss: 0.184 - ETA: 0s - loss: 0.184 - ETA: 0s - loss: 0.183 - ETA: 0s - loss: 0.185 - ETA: 0s - loss: 0.186 - ETA: 0s - loss: 0.184 - ETA: 0s - loss: 0.185 - ETA: 0s - loss: 0.186 - ETA: 0s - loss: 0.186 - ETA: 0s - loss: 0.185 - ETA: 0s - loss: 0.186 - ETA: 0s - loss: 0.187 - ETA: 0s - loss: 0.189 - ETA: 0s - loss: 0.189 - ETA: 0s - loss: 0.190 - ETA: 0s - loss: 0.189 - ETA: 0s - loss: 0.189 - ETA: 0s - loss: 0.189 - ETA: 0s - loss: 0.190 - ETA: 0s - loss: 0.193 - ETA: 0s - loss: 0.192 - ETA: 0s - loss: 0.192 - ETA: 0s - loss: 0.193 - ETA: 0s - loss: 0.194 - 2s 92us/step - loss: 0.1944\n",
      "Epoch 13/100\n",
      "19826/19826 [==============================] - ETA: 1s - loss: 0.218 - ETA: 1s - loss: 0.184 - ETA: 1s - loss: 0.192 - ETA: 1s - loss: 0.184 - ETA: 1s - loss: 0.176 - ETA: 1s - loss: 0.173 - ETA: 1s - loss: 0.178 - ETA: 1s - loss: 0.183 - ETA: 1s - loss: 0.182 - ETA: 0s - loss: 0.176 - ETA: 0s - loss: 0.176 - ETA: 0s - loss: 0.174 - ETA: 0s - loss: 0.173 - ETA: 0s - loss: 0.174 - ETA: 0s - loss: 0.174 - ETA: 0s - loss: 0.176 - ETA: 0s - loss: 0.176 - ETA: 0s - loss: 0.176 - ETA: 0s - loss: 0.176 - ETA: 0s - loss: 0.176 - ETA: 0s - loss: 0.179 - ETA: 0s - loss: 0.181 - ETA: 0s - loss: 0.181 - 1s 60us/step - loss: 0.1829\n",
      "Epoch 14/100\n",
      "19826/19826 [==============================] - ETA: 1s - loss: 0.159 - ETA: 0s - loss: 0.160 - ETA: 0s - loss: 0.158 - ETA: 0s - loss: 0.174 - ETA: 0s - loss: 0.176 - ETA: 0s - loss: 0.175 - ETA: 0s - loss: 0.170 - ETA: 0s - loss: 0.168 - ETA: 0s - loss: 0.173 - ETA: 0s - loss: 0.177 - ETA: 0s - loss: 0.176 - ETA: 0s - loss: 0.173 - ETA: 0s - loss: 0.176 - ETA: 0s - loss: 0.176 - ETA: 0s - loss: 0.176 - ETA: 0s - loss: 0.176 - ETA: 0s - loss: 0.175 - ETA: 0s - loss: 0.176 - ETA: 0s - loss: 0.175 - ETA: 0s - loss: 0.175 - 1s 52us/step - loss: 0.1749\n",
      "Epoch 15/100\n",
      "19826/19826 [==============================] - ETA: 3s - loss: 0.159 - ETA: 1s - loss: 0.170 - ETA: 1s - loss: 0.155 - ETA: 1s - loss: 0.155 - ETA: 1s - loss: 0.151 - ETA: 1s - loss: 0.153 - ETA: 1s - loss: 0.152 - ETA: 1s - loss: 0.153 - ETA: 0s - loss: 0.154 - ETA: 0s - loss: 0.155 - ETA: 0s - loss: 0.154 - ETA: 0s - loss: 0.151 - ETA: 0s - loss: 0.153 - ETA: 0s - loss: 0.154 - ETA: 0s - loss: 0.155 - ETA: 0s - loss: 0.156 - ETA: 0s - loss: 0.157 - ETA: 0s - loss: 0.157 - ETA: 0s - loss: 0.160 - ETA: 0s - loss: 0.161 - ETA: 0s - loss: 0.161 - 1s 55us/step - loss: 0.1633\n",
      "Epoch 16/100\n",
      "19826/19826 [==============================] - ETA: 1s - loss: 0.148 - ETA: 0s - loss: 0.127 - ETA: 0s - loss: 0.141 - ETA: 0s - loss: 0.148 - ETA: 0s - loss: 0.156 - ETA: 0s - loss: 0.157 - ETA: 0s - loss: 0.153 - ETA: 0s - loss: 0.153 - ETA: 0s - loss: 0.154 - ETA: 0s - loss: 0.154 - ETA: 0s - loss: 0.154 - ETA: 0s - loss: 0.152 - ETA: 0s - loss: 0.150 - ETA: 0s - loss: 0.149 - ETA: 0s - loss: 0.150 - ETA: 0s - loss: 0.151 - ETA: 0s - loss: 0.154 - ETA: 0s - loss: 0.154 - ETA: 0s - loss: 0.154 - ETA: 0s - loss: 0.154 - 1s 51us/step - loss: 0.1553\n",
      "Epoch 17/100\n",
      "19826/19826 [==============================] - ETA: 1s - loss: 0.142 - ETA: 0s - loss: 0.161 - ETA: 0s - loss: 0.150 - ETA: 0s - loss: 0.156 - ETA: 0s - loss: 0.148 - ETA: 0s - loss: 0.147 - ETA: 0s - loss: 0.148 - ETA: 0s - loss: 0.150 - ETA: 0s - loss: 0.147 - ETA: 0s - loss: 0.145 - ETA: 0s - loss: 0.144 - ETA: 0s - loss: 0.146 - ETA: 0s - loss: 0.147 - ETA: 0s - loss: 0.148 - ETA: 0s - loss: 0.147 - ETA: 0s - loss: 0.147 - ETA: 0s - loss: 0.147 - ETA: 0s - loss: 0.146 - 1s 46us/step - loss: 0.1471\n",
      "Epoch 18/100\n",
      "19826/19826 [==============================] - ETA: 2s - loss: 0.135 - ETA: 0s - loss: 0.155 - ETA: 0s - loss: 0.141 - ETA: 0s - loss: 0.134 - ETA: 0s - loss: 0.130 - ETA: 0s - loss: 0.126 - ETA: 0s - loss: 0.129 - ETA: 0s - loss: 0.130 - ETA: 0s - loss: 0.129 - ETA: 0s - loss: 0.131 - ETA: 0s - loss: 0.131 - ETA: 0s - loss: 0.135 - ETA: 0s - loss: 0.135 - ETA: 0s - loss: 0.135 - ETA: 0s - loss: 0.135 - ETA: 0s - loss: 0.135 - ETA: 0s - loss: 0.136 - ETA: 0s - loss: 0.137 - ETA: 0s - loss: 0.137 - ETA: 0s - loss: 0.137 - ETA: 0s - loss: 0.138 - 1s 55us/step - loss: 0.1380\n",
      "Epoch 19/100\n",
      "19826/19826 [==============================] - ETA: 3s - loss: 0.074 - ETA: 1s - loss: 0.132 - ETA: 1s - loss: 0.126 - ETA: 1s - loss: 0.134 - ETA: 1s - loss: 0.127 - ETA: 1s - loss: 0.124 - ETA: 1s - loss: 0.125 - ETA: 1s - loss: 0.125 - ETA: 1s - loss: 0.125 - ETA: 1s - loss: 0.124 - ETA: 1s - loss: 0.123 - ETA: 1s - loss: 0.123 - ETA: 1s - loss: 0.121 - ETA: 1s - loss: 0.123 - ETA: 0s - loss: 0.125 - ETA: 0s - loss: 0.124 - ETA: 0s - loss: 0.125 - ETA: 0s - loss: 0.125 - ETA: 0s - loss: 0.124 - ETA: 0s - loss: 0.124 - ETA: 0s - loss: 0.126 - ETA: 0s - loss: 0.130 - ETA: 0s - loss: 0.131 - ETA: 0s - loss: 0.132 - ETA: 0s - loss: 0.134 - ETA: 0s - loss: 0.134 - ETA: 0s - loss: 0.136 - 1s 71us/step - loss: 0.1356\n",
      "Epoch 20/100\n",
      "19826/19826 [==============================] - ETA: 1s - loss: 0.114 - ETA: 1s - loss: 0.141 - ETA: 1s - loss: 0.129 - ETA: 1s - loss: 0.120 - ETA: 0s - loss: 0.118 - ETA: 0s - loss: 0.119 - ETA: 0s - loss: 0.120 - ETA: 0s - loss: 0.119 - ETA: 0s - loss: 0.119 - ETA: 0s - loss: 0.118 - ETA: 0s - loss: 0.121 - ETA: 0s - loss: 0.119 - ETA: 0s - loss: 0.119 - ETA: 0s - loss: 0.118 - ETA: 0s - loss: 0.119 - ETA: 0s - loss: 0.119 - ETA: 0s - loss: 0.119 - ETA: 0s - loss: 0.120 - ETA: 0s - loss: 0.121 - ETA: 0s - loss: 0.121 - ETA: 0s - loss: 0.122 - ETA: 0s - loss: 0.122 - ETA: 0s - loss: 0.122 - ETA: 0s - loss: 0.122 - ETA: 0s - loss: 0.122 - ETA: 0s - loss: 0.123 - ETA: 0s - loss: 0.124 - 1s 72us/step - loss: 0.1256\n",
      "Epoch 21/100\n",
      "19826/19826 [==============================] - ETA: 2s - loss: 0.066 - ETA: 1s - loss: 0.127 - ETA: 1s - loss: 0.132 - ETA: 1s - loss: 0.128 - ETA: 1s - loss: 0.119 - ETA: 1s - loss: 0.127 - ETA: 1s - loss: 0.122 - ETA: 1s - loss: 0.121 - ETA: 1s - loss: 0.118 - ETA: 1s - loss: 0.119 - ETA: 1s - loss: 0.119 - ETA: 1s - loss: 0.120 - ETA: 1s - loss: 0.118 - ETA: 1s - loss: 0.117 - ETA: 1s - loss: 0.117 - ETA: 1s - loss: 0.117 - ETA: 0s - loss: 0.117 - ETA: 0s - loss: 0.118 - ETA: 0s - loss: 0.118 - ETA: 0s - loss: 0.117 - ETA: 0s - loss: 0.117 - ETA: 0s - loss: 0.117 - ETA: 0s - loss: 0.118 - ETA: 0s - loss: 0.117 - ETA: 0s - loss: 0.118 - ETA: 0s - loss: 0.118 - ETA: 0s - loss: 0.118 - ETA: 0s - loss: 0.119 - ETA: 0s - loss: 0.118 - ETA: 0s - loss: 0.119 - ETA: 0s - loss: 0.120 - 2s 82us/step - loss: 0.1204\n",
      "Epoch 22/100\n",
      "19826/19826 [==============================] - ETA: 1s - loss: 0.169 - ETA: 1s - loss: 0.112 - ETA: 1s - loss: 0.114 - ETA: 0s - loss: 0.111 - ETA: 0s - loss: 0.111 - ETA: 0s - loss: 0.112 - ETA: 0s - loss: 0.112 - ETA: 0s - loss: 0.111 - ETA: 0s - loss: 0.108 - ETA: 0s - loss: 0.107 - ETA: 0s - loss: 0.107 - ETA: 0s - loss: 0.106 - ETA: 0s - loss: 0.108 - ETA: 0s - loss: 0.107 - ETA: 0s - loss: 0.107 - ETA: 0s - loss: 0.108 - ETA: 0s - loss: 0.108 - ETA: 0s - loss: 0.109 - ETA: 0s - loss: 0.108 - ETA: 0s - loss: 0.110 - ETA: 0s - loss: 0.110 - ETA: 0s - loss: 0.111 - 1s 57us/step - loss: 0.1110\n",
      "Epoch 23/100\n",
      "19826/19826 [==============================] - ETA: 0s - loss: 0.090 - ETA: 0s - loss: 0.113 - ETA: 0s - loss: 0.110 - ETA: 0s - loss: 0.097 - ETA: 0s - loss: 0.100 - ETA: 0s - loss: 0.102 - ETA: 0s - loss: 0.102 - ETA: 0s - loss: 0.103 - ETA: 0s - loss: 0.103 - ETA: 0s - loss: 0.103 - ETA: 0s - loss: 0.104 - ETA: 0s - loss: 0.102 - ETA: 0s - loss: 0.104 - ETA: 0s - loss: 0.103 - ETA: 0s - loss: 0.104 - ETA: 0s - loss: 0.105 - ETA: 0s - loss: 0.105 - ETA: 0s - loss: 0.108 - ETA: 0s - loss: 0.109 - ETA: 0s - loss: 0.108 - ETA: 0s - loss: 0.107 - 1s 55us/step - loss: 0.1082\n",
      "Epoch 24/100\n",
      "19826/19826 [==============================] - ETA: 1s - loss: 0.113 - ETA: 1s - loss: 0.097 - ETA: 1s - loss: 0.093 - ETA: 0s - loss: 0.091 - ETA: 0s - loss: 0.089 - ETA: 0s - loss: 0.089 - ETA: 0s - loss: 0.090 - ETA: 0s - loss: 0.092 - ETA: 0s - loss: 0.094 - ETA: 0s - loss: 0.095 - ETA: 0s - loss: 0.098 - ETA: 0s - loss: 0.100 - ETA: 0s - loss: 0.100 - ETA: 0s - loss: 0.101 - ETA: 0s - loss: 0.102 - ETA: 0s - loss: 0.103 - ETA: 0s - loss: 0.103 - ETA: 0s - loss: 0.102 - ETA: 0s - loss: 0.102 - ETA: 0s - loss: 0.101 - ETA: 0s - loss: 0.101 - 1s 55us/step - loss: 0.1017\n",
      "Epoch 25/100\n",
      "19826/19826 [==============================] - ETA: 1s - loss: 0.143 - ETA: 1s - loss: 0.105 - ETA: 1s - loss: 0.100 - ETA: 0s - loss: 0.098 - ETA: 0s - loss: 0.093 - ETA: 0s - loss: 0.091 - ETA: 0s - loss: 0.091 - ETA: 0s - loss: 0.089 - ETA: 0s - loss: 0.090 - ETA: 0s - loss: 0.090 - ETA: 0s - loss: 0.090 - ETA: 0s - loss: 0.091 - ETA: 0s - loss: 0.091 - ETA: 0s - loss: 0.093 - ETA: 0s - loss: 0.093 - ETA: 0s - loss: 0.092 - ETA: 0s - loss: 0.093 - ETA: 0s - loss: 0.094 - ETA: 0s - loss: 0.095 - ETA: 0s - loss: 0.095 - ETA: 0s - loss: 0.095 - ETA: 0s - loss: 0.095 - ETA: 0s - loss: 0.096 - ETA: 0s - loss: 0.096 - ETA: 0s - loss: 0.096 - ETA: 0s - loss: 0.095 - ETA: 0s - loss: 0.095 - ETA: 0s - loss: 0.095 - 1s 73us/step - loss: 0.0962\n",
      "Epoch 26/100\n",
      "19826/19826 [==============================] - ETA: 3s - loss: 0.067 - ETA: 1s - loss: 0.081 - ETA: 1s - loss: 0.088 - ETA: 1s - loss: 0.090 - ETA: 1s - loss: 0.088 - ETA: 0s - loss: 0.090 - ETA: 0s - loss: 0.092 - ETA: 0s - loss: 0.089 - ETA: 0s - loss: 0.088 - ETA: 0s - loss: 0.088 - ETA: 0s - loss: 0.087 - ETA: 0s - loss: 0.086 - ETA: 0s - loss: 0.086 - ETA: 0s - loss: 0.087 - ETA: 0s - loss: 0.088 - ETA: 0s - loss: 0.089 - ETA: 0s - loss: 0.090 - ETA: 0s - loss: 0.091 - ETA: 0s - loss: 0.092 - ETA: 0s - loss: 0.093 - ETA: 0s - loss: 0.092 - ETA: 0s - loss: 0.093 - ETA: 0s - loss: 0.092 - ETA: 0s - loss: 0.091 - ETA: 0s - loss: 0.092 - ETA: 0s - loss: 0.092 - 1s 68us/step - loss: 0.0926\n",
      "Epoch 27/100\n",
      "19826/19826 [==============================] - ETA: 1s - loss: 0.083 - ETA: 1s - loss: 0.069 - ETA: 1s - loss: 0.075 - ETA: 0s - loss: 0.081 - ETA: 0s - loss: 0.082 - ETA: 0s - loss: 0.085 - ETA: 0s - loss: 0.084 - ETA: 0s - loss: 0.084 - ETA: 0s - loss: 0.086 - ETA: 0s - loss: 0.087 - ETA: 0s - loss: 0.085 - ETA: 0s - loss: 0.087 - ETA: 0s - loss: 0.087 - ETA: 0s - loss: 0.088 - ETA: 0s - loss: 0.088 - ETA: 0s - loss: 0.089 - ETA: 0s - loss: 0.088 - ETA: 0s - loss: 0.088 - ETA: 0s - loss: 0.088 - ETA: 0s - loss: 0.087 - ETA: 0s - loss: 0.088 - ETA: 0s - loss: 0.088 - ETA: 0s - loss: 0.088 - ETA: 0s - loss: 0.090 - ETA: 0s - loss: 0.089 - 1s 65us/step - loss: 0.0902\n",
      "Epoch 28/100\n",
      "19826/19826 [==============================] - ETA: 1s - loss: 0.063 - ETA: 1s - loss: 0.081 - ETA: 1s - loss: 0.083 - ETA: 1s - loss: 0.077 - ETA: 1s - loss: 0.080 - ETA: 1s - loss: 0.080 - ETA: 1s - loss: 0.083 - ETA: 0s - loss: 0.083 - ETA: 0s - loss: 0.080 - ETA: 0s - loss: 0.083 - ETA: 0s - loss: 0.084 - ETA: 0s - loss: 0.084 - ETA: 0s - loss: 0.083 - ETA: 0s - loss: 0.084 - ETA: 0s - loss: 0.085 - ETA: 0s - loss: 0.085 - ETA: 0s - loss: 0.086 - ETA: 0s - loss: 0.085 - ETA: 0s - loss: 0.085 - ETA: 0s - loss: 0.084 - ETA: 0s - loss: 0.084 - ETA: 0s - loss: 0.083 - ETA: 0s - loss: 0.083 - ETA: 0s - loss: 0.083 - ETA: 0s - loss: 0.083 - ETA: 0s - loss: 0.083 - 1s 67us/step - loss: 0.0829\n",
      "Epoch 29/100\n",
      "19826/19826 [==============================] - ETA: 1s - loss: 0.061 - ETA: 1s - loss: 0.059 - ETA: 1s - loss: 0.066 - ETA: 1s - loss: 0.068 - ETA: 1s - loss: 0.076 - ETA: 1s - loss: 0.074 - ETA: 1s - loss: 0.075 - ETA: 1s - loss: 0.077 - ETA: 0s - loss: 0.076 - ETA: 0s - loss: 0.076 - ETA: 1s - loss: 0.078 - ETA: 0s - loss: 0.079 - ETA: 0s - loss: 0.078 - ETA: 0s - loss: 0.078 - ETA: 0s - loss: 0.079 - ETA: 0s - loss: 0.079 - ETA: 0s - loss: 0.079 - ETA: 0s - loss: 0.079 - ETA: 0s - loss: 0.078 - ETA: 0s - loss: 0.078 - ETA: 0s - loss: 0.079 - ETA: 0s - loss: 0.079 - ETA: 0s - loss: 0.079 - ETA: 0s - loss: 0.078 - ETA: 0s - loss: 0.078 - ETA: 0s - loss: 0.077 - ETA: 0s - loss: 0.077 - 1s 70us/step - loss: 0.0779\n",
      "Epoch 30/100\n",
      "19826/19826 [==============================] - ETA: 1s - loss: 0.081 - ETA: 0s - loss: 0.088 - ETA: 0s - loss: 0.079 - ETA: 0s - loss: 0.078 - ETA: 0s - loss: 0.078 - ETA: 0s - loss: 0.077 - ETA: 0s - loss: 0.078 - ETA: 0s - loss: 0.076 - ETA: 0s - loss: 0.077 - ETA: 0s - loss: 0.075 - ETA: 0s - loss: 0.075 - ETA: 0s - loss: 0.075 - ETA: 0s - loss: 0.075 - ETA: 0s - loss: 0.075 - ETA: 0s - loss: 0.075 - ETA: 0s - loss: 0.076 - ETA: 0s - loss: 0.076 - ETA: 0s - loss: 0.077 - ETA: 0s - loss: 0.077 - ETA: 0s - loss: 0.077 - ETA: 0s - loss: 0.077 - ETA: 0s - loss: 0.076 - 1s 56us/step - loss: 0.0764\n",
      "Epoch 31/100\n",
      "19826/19826 [==============================] - ETA: 1s - loss: 0.086 - ETA: 0s - loss: 0.082 - ETA: 0s - loss: 0.074 - ETA: 0s - loss: 0.073 - ETA: 0s - loss: 0.072 - ETA: 0s - loss: 0.069 - ETA: 0s - loss: 0.071 - ETA: 0s - loss: 0.071 - ETA: 0s - loss: 0.071 - ETA: 0s - loss: 0.072 - ETA: 0s - loss: 0.071 - ETA: 0s - loss: 0.073 - ETA: 0s - loss: 0.073 - ETA: 0s - loss: 0.074 - ETA: 0s - loss: 0.075 - ETA: 0s - loss: 0.074 - ETA: 0s - loss: 0.074 - ETA: 0s - loss: 0.074 - 1s 46us/step - loss: 0.0750\n",
      "Epoch 32/100\n",
      "19826/19826 [==============================] - ETA: 1s - loss: 0.047 - ETA: 0s - loss: 0.062 - ETA: 0s - loss: 0.071 - ETA: 0s - loss: 0.068 - ETA: 0s - loss: 0.066 - ETA: 0s - loss: 0.067 - ETA: 0s - loss: 0.070 - ETA: 0s - loss: 0.069 - ETA: 0s - loss: 0.069 - ETA: 0s - loss: 0.068 - ETA: 0s - loss: 0.070 - ETA: 0s - loss: 0.070 - ETA: 0s - loss: 0.071 - ETA: 0s - loss: 0.070 - ETA: 0s - loss: 0.070 - ETA: 0s - loss: 0.070 - ETA: 0s - loss: 0.069 - ETA: 0s - loss: 0.069 - 1s 47us/step - loss: 0.0702\n",
      "Epoch 33/100\n",
      "19826/19826 [==============================] - ETA: 1s - loss: 0.051 - ETA: 0s - loss: 0.058 - ETA: 0s - loss: 0.059 - ETA: 0s - loss: 0.057 - ETA: 0s - loss: 0.058 - ETA: 0s - loss: 0.059 - ETA: 0s - loss: 0.058 - ETA: 0s - loss: 0.059 - ETA: 0s - loss: 0.059 - ETA: 0s - loss: 0.059 - ETA: 0s - loss: 0.060 - ETA: 0s - loss: 0.061 - ETA: 0s - loss: 0.062 - ETA: 0s - loss: 0.063 - ETA: 0s - loss: 0.064 - ETA: 0s - loss: 0.064 - ETA: 0s - loss: 0.065 - ETA: 0s - loss: 0.065 - ETA: 0s - loss: 0.066 - ETA: 0s - loss: 0.066 - 1s 53us/step - loss: 0.0670\n",
      "Epoch 34/100\n",
      "19826/19826 [==============================] - ETA: 1s - loss: 0.033 - ETA: 0s - loss: 0.056 - ETA: 0s - loss: 0.065 - ETA: 0s - loss: 0.061 - ETA: 0s - loss: 0.060 - ETA: 0s - loss: 0.060 - ETA: 0s - loss: 0.060 - ETA: 0s - loss: 0.061 - ETA: 0s - loss: 0.061 - ETA: 0s - loss: 0.061 - ETA: 0s - loss: 0.063 - ETA: 0s - loss: 0.063 - ETA: 0s - loss: 0.062 - ETA: 0s - loss: 0.063 - ETA: 0s - loss: 0.063 - ETA: 0s - loss: 0.063 - ETA: 0s - loss: 0.063 - ETA: 0s - loss: 0.063 - ETA: 0s - loss: 0.064 - ETA: 0s - loss: 0.064 - 1s 51us/step - loss: 0.0643\n",
      "Epoch 35/100\n",
      "19826/19826 [==============================] - ETA: 2s - loss: 0.041 - ETA: 1s - loss: 0.052 - ETA: 1s - loss: 0.053 - ETA: 0s - loss: 0.058 - ETA: 0s - loss: 0.060 - ETA: 0s - loss: 0.064 - ETA: 0s - loss: 0.063 - ETA: 0s - loss: 0.062 - ETA: 0s - loss: 0.063 - ETA: 0s - loss: 0.064 - ETA: 0s - loss: 0.064 - ETA: 0s - loss: 0.064 - ETA: 0s - loss: 0.064 - ETA: 0s - loss: 0.064 - ETA: 0s - loss: 0.064 - ETA: 0s - loss: 0.063 - ETA: 0s - loss: 0.063 - ETA: 0s - loss: 0.064 - ETA: 0s - loss: 0.063 - ETA: 0s - loss: 0.063 - ETA: 0s - loss: 0.062 - 1s 54us/step - loss: 0.0629\n",
      "Epoch 36/100\n",
      "19826/19826 [==============================] - ETA: 2s - loss: 0.093 - ETA: 1s - loss: 0.070 - ETA: 0s - loss: 0.064 - ETA: 0s - loss: 0.062 - ETA: 0s - loss: 0.063 - ETA: 0s - loss: 0.061 - ETA: 0s - loss: 0.061 - ETA: 0s - loss: 0.060 - ETA: 0s - loss: 0.062 - ETA: 0s - loss: 0.063 - ETA: 0s - loss: 0.062 - ETA: 0s - loss: 0.062 - ETA: 0s - loss: 0.061 - ETA: 0s - loss: 0.061 - ETA: 0s - loss: 0.062 - ETA: 0s - loss: 0.063 - ETA: 0s - loss: 0.062 - ETA: 0s - loss: 0.063 - ETA: 0s - loss: 0.063 - ETA: 0s - loss: 0.062 - 1s 52us/step - loss: 0.0628\n",
      "Epoch 37/100\n",
      "19826/19826 [==============================] - ETA: 2s - loss: 0.046 - ETA: 1s - loss: 0.055 - ETA: 0s - loss: 0.051 - ETA: 0s - loss: 0.051 - ETA: 0s - loss: 0.049 - ETA: 0s - loss: 0.049 - ETA: 0s - loss: 0.048 - ETA: 0s - loss: 0.050 - ETA: 0s - loss: 0.052 - ETA: 0s - loss: 0.053 - ETA: 0s - loss: 0.054 - ETA: 0s - loss: 0.054 - ETA: 0s - loss: 0.054 - ETA: 0s - loss: 0.054 - ETA: 0s - loss: 0.054 - ETA: 0s - loss: 0.054 - ETA: 0s - loss: 0.055 - ETA: 0s - loss: 0.055 - ETA: 0s - loss: 0.055 - ETA: 0s - loss: 0.056 - 1s 51us/step - loss: 0.0572\n",
      "Epoch 38/100\n",
      "19826/19826 [==============================] - ETA: 1s - loss: 0.052 - ETA: 1s - loss: 0.065 - ETA: 0s - loss: 0.059 - ETA: 0s - loss: 0.054 - ETA: 0s - loss: 0.049 - ETA: 0s - loss: 0.047 - ETA: 0s - loss: 0.048 - ETA: 0s - loss: 0.049 - ETA: 0s - loss: 0.049 - ETA: 0s - loss: 0.050 - ETA: 0s - loss: 0.051 - ETA: 0s - loss: 0.050 - ETA: 0s - loss: 0.050 - ETA: 0s - loss: 0.050 - ETA: 0s - loss: 0.050 - ETA: 0s - loss: 0.051 - ETA: 0s - loss: 0.051 - ETA: 0s - loss: 0.051 - ETA: 0s - loss: 0.051 - 1s 48us/step - loss: 0.0515\n",
      "Epoch 39/100\n",
      "19826/19826 [==============================] - ETA: 1s - loss: 0.091 - ETA: 0s - loss: 0.062 - ETA: 0s - loss: 0.056 - ETA: 0s - loss: 0.052 - ETA: 0s - loss: 0.053 - ETA: 0s - loss: 0.052 - ETA: 0s - loss: 0.053 - ETA: 0s - loss: 0.052 - ETA: 0s - loss: 0.052 - ETA: 0s - loss: 0.052 - ETA: 0s - loss: 0.052 - ETA: 0s - loss: 0.053 - ETA: 0s - loss: 0.053 - ETA: 0s - loss: 0.052 - ETA: 0s - loss: 0.052 - ETA: 0s - loss: 0.052 - ETA: 0s - loss: 0.052 - ETA: 0s - loss: 0.053 - ETA: 0s - loss: 0.053 - 1s 49us/step - loss: 0.0534\n",
      "Epoch 40/100\n",
      "19826/19826 [==============================] - ETA: 2s - loss: 0.088 - ETA: 0s - loss: 0.051 - ETA: 0s - loss: 0.049 - ETA: 0s - loss: 0.050 - ETA: 0s - loss: 0.051 - ETA: 0s - loss: 0.050 - ETA: 0s - loss: 0.048 - ETA: 0s - loss: 0.048 - ETA: 0s - loss: 0.049 - ETA: 0s - loss: 0.049 - ETA: 0s - loss: 0.049 - ETA: 0s - loss: 0.049 - ETA: 0s - loss: 0.050 - ETA: 0s - loss: 0.049 - ETA: 0s - loss: 0.049 - ETA: 0s - loss: 0.049 - ETA: 0s - loss: 0.049 - ETA: 0s - loss: 0.049 - ETA: 0s - loss: 0.050 - ETA: 0s - loss: 0.049 - 1s 51us/step - loss: 0.0499\n",
      "Epoch 41/100\n",
      "19826/19826 [==============================] - ETA: 1s - loss: 0.017 - ETA: 0s - loss: 0.040 - ETA: 0s - loss: 0.042 - ETA: 0s - loss: 0.041 - ETA: 0s - loss: 0.041 - ETA: 0s - loss: 0.040 - ETA: 0s - loss: 0.042 - ETA: 0s - loss: 0.043 - ETA: 0s - loss: 0.042 - ETA: 0s - loss: 0.043 - ETA: 0s - loss: 0.042 - ETA: 0s - loss: 0.042 - ETA: 0s - loss: 0.043 - ETA: 0s - loss: 0.043 - ETA: 0s - loss: 0.043 - ETA: 0s - loss: 0.044 - ETA: 0s - loss: 0.044 - ETA: 0s - loss: 0.044 - ETA: 0s - loss: 0.044 - 1s 48us/step - loss: 0.0451\n",
      "Epoch 42/100\n",
      "19826/19826 [==============================] - ETA: 2s - loss: 0.096 - ETA: 0s - loss: 0.050 - ETA: 0s - loss: 0.047 - ETA: 0s - loss: 0.044 - ETA: 0s - loss: 0.041 - ETA: 0s - loss: 0.039 - ETA: 0s - loss: 0.039 - ETA: 0s - loss: 0.039 - ETA: 0s - loss: 0.040 - ETA: 0s - loss: 0.039 - ETA: 0s - loss: 0.040 - ETA: 0s - loss: 0.040 - ETA: 0s - loss: 0.040 - ETA: 0s - loss: 0.041 - ETA: 0s - loss: 0.041 - ETA: 0s - loss: 0.042 - ETA: 0s - loss: 0.042 - ETA: 0s - loss: 0.042 - ETA: 0s - loss: 0.043 - 1s 49us/step - loss: 0.0435\n",
      "Epoch 43/100\n",
      "19826/19826 [==============================] - ETA: 1s - loss: 0.046 - ETA: 0s - loss: 0.033 - ETA: 0s - loss: 0.038 - ETA: 0s - loss: 0.039 - ETA: 0s - loss: 0.040 - ETA: 0s - loss: 0.046 - ETA: 0s - loss: 0.047 - ETA: 0s - loss: 0.048 - ETA: 0s - loss: 0.047 - ETA: 0s - loss: 0.046 - ETA: 0s - loss: 0.046 - ETA: 0s - loss: 0.047 - ETA: 0s - loss: 0.047 - ETA: 0s - loss: 0.047 - ETA: 0s - loss: 0.046 - ETA: 0s - loss: 0.046 - ETA: 0s - loss: 0.045 - ETA: 0s - loss: 0.046 - ETA: 0s - loss: 0.047 - 1s 48us/step - loss: 0.0470\n",
      "Epoch 44/100\n",
      "19826/19826 [==============================] - ETA: 1s - loss: 0.026 - ETA: 0s - loss: 0.039 - ETA: 0s - loss: 0.037 - ETA: 0s - loss: 0.034 - ETA: 0s - loss: 0.033 - ETA: 0s - loss: 0.033 - ETA: 0s - loss: 0.035 - ETA: 0s - loss: 0.037 - ETA: 0s - loss: 0.038 - ETA: 0s - loss: 0.038 - ETA: 0s - loss: 0.039 - ETA: 0s - loss: 0.039 - ETA: 0s - loss: 0.040 - ETA: 0s - loss: 0.042 - ETA: 0s - loss: 0.043 - ETA: 0s - loss: 0.045 - ETA: 0s - loss: 0.045 - ETA: 0s - loss: 0.046 - 1s 45us/step - loss: 0.0466\n",
      "Epoch 45/100\n",
      "19826/19826 [==============================] - ETA: 1s - loss: 0.025 - ETA: 0s - loss: 0.047 - ETA: 0s - loss: 0.050 - ETA: 0s - loss: 0.046 - ETA: 0s - loss: 0.044 - ETA: 0s - loss: 0.042 - ETA: 0s - loss: 0.041 - ETA: 0s - loss: 0.041 - ETA: 0s - loss: 0.042 - ETA: 0s - loss: 0.043 - ETA: 0s - loss: 0.043 - ETA: 0s - loss: 0.044 - ETA: 0s - loss: 0.044 - ETA: 0s - loss: 0.044 - ETA: 0s - loss: 0.044 - ETA: 0s - loss: 0.044 - ETA: 0s - loss: 0.044 - ETA: 0s - loss: 0.043 - 1s 47us/step - loss: 0.0433\n",
      "Epoch 46/100\n",
      "19826/19826 [==============================] - ETA: 1s - loss: 0.033 - ETA: 0s - loss: 0.040 - ETA: 0s - loss: 0.039 - ETA: 0s - loss: 0.038 - ETA: 0s - loss: 0.037 - ETA: 0s - loss: 0.038 - ETA: 0s - loss: 0.037 - ETA: 0s - loss: 0.037 - ETA: 0s - loss: 0.037 - ETA: 0s - loss: 0.037 - ETA: 0s - loss: 0.037 - ETA: 0s - loss: 0.037 - ETA: 0s - loss: 0.037 - ETA: 0s - loss: 0.037 - ETA: 0s - loss: 0.038 - ETA: 0s - loss: 0.037 - ETA: 0s - loss: 0.038 - ETA: 0s - loss: 0.038 - 1s 45us/step - loss: 0.0388\n",
      "Epoch 47/100\n",
      "19826/19826 [==============================] - ETA: 1s - loss: 0.015 - ETA: 1s - loss: 0.028 - ETA: 0s - loss: 0.034 - ETA: 0s - loss: 0.035 - ETA: 0s - loss: 0.035 - ETA: 0s - loss: 0.036 - ETA: 0s - loss: 0.036 - ETA: 0s - loss: 0.035 - ETA: 0s - loss: 0.035 - ETA: 0s - loss: 0.035 - ETA: 0s - loss: 0.035 - ETA: 0s - loss: 0.035 - ETA: 0s - loss: 0.035 - ETA: 0s - loss: 0.035 - ETA: 0s - loss: 0.035 - ETA: 0s - loss: 0.035 - ETA: 0s - loss: 0.035 - ETA: 0s - loss: 0.036 - ETA: 0s - loss: 0.036 - 1s 49us/step - loss: 0.0366\n",
      "Epoch 48/100\n",
      "19826/19826 [==============================] - ETA: 2s - loss: 0.022 - ETA: 0s - loss: 0.025 - ETA: 0s - loss: 0.028 - ETA: 0s - loss: 0.029 - ETA: 0s - loss: 0.032 - ETA: 0s - loss: 0.032 - ETA: 0s - loss: 0.032 - ETA: 0s - loss: 0.032 - ETA: 0s - loss: 0.031 - ETA: 0s - loss: 0.031 - ETA: 0s - loss: 0.031 - ETA: 0s - loss: 0.031 - ETA: 0s - loss: 0.032 - ETA: 0s - loss: 0.033 - ETA: 0s - loss: 0.033 - ETA: 0s - loss: 0.033 - ETA: 0s - loss: 0.033 - ETA: 0s - loss: 0.034 - ETA: 0s - loss: 0.034 - ETA: 0s - loss: 0.033 - 1s 51us/step - loss: 0.0341\n",
      "Epoch 49/100\n",
      "19826/19826 [==============================] - ETA: 1s - loss: 0.068 - ETA: 0s - loss: 0.033 - ETA: 0s - loss: 0.033 - ETA: 0s - loss: 0.034 - ETA: 0s - loss: 0.032 - ETA: 0s - loss: 0.032 - ETA: 0s - loss: 0.033 - ETA: 0s - loss: 0.033 - ETA: 0s - loss: 0.032 - ETA: 0s - loss: 0.032 - ETA: 0s - loss: 0.032 - ETA: 0s - loss: 0.032 - ETA: 0s - loss: 0.032 - ETA: 0s - loss: 0.032 - ETA: 0s - loss: 0.032 - ETA: 0s - loss: 0.032 - ETA: 0s - loss: 0.032 - ETA: 0s - loss: 0.033 - 1s 47us/step - loss: 0.0334\n",
      "Epoch 50/100\n",
      "19826/19826 [==============================] - ETA: 2s - loss: 0.028 - ETA: 0s - loss: 0.039 - ETA: 0s - loss: 0.038 - ETA: 0s - loss: 0.035 - ETA: 0s - loss: 0.032 - ETA: 0s - loss: 0.031 - ETA: 0s - loss: 0.031 - ETA: 0s - loss: 0.032 - ETA: 0s - loss: 0.032 - ETA: 0s - loss: 0.031 - ETA: 0s - loss: 0.032 - ETA: 0s - loss: 0.032 - ETA: 0s - loss: 0.032 - ETA: 0s - loss: 0.031 - ETA: 0s - loss: 0.031 - ETA: 0s - loss: 0.030 - ETA: 0s - loss: 0.031 - ETA: 0s - loss: 0.031 - ETA: 0s - loss: 0.031 - 1s 49us/step - loss: 0.0318\n",
      "Epoch 51/100\n",
      "19826/19826 [==============================] - ETA: 1s - loss: 0.012 - ETA: 0s - loss: 0.023 - ETA: 0s - loss: 0.026 - ETA: 0s - loss: 0.028 - ETA: 0s - loss: 0.027 - ETA: 0s - loss: 0.029 - ETA: 0s - loss: 0.029 - ETA: 0s - loss: 0.029 - ETA: 0s - loss: 0.029 - ETA: 0s - loss: 0.029 - ETA: 0s - loss: 0.029 - ETA: 0s - loss: 0.029 - ETA: 0s - loss: 0.030 - ETA: 0s - loss: 0.030 - ETA: 0s - loss: 0.031 - ETA: 0s - loss: 0.032 - ETA: 0s - loss: 0.032 - ETA: 0s - loss: 0.033 - 1s 46us/step - loss: 0.0336\n",
      "Epoch 52/100\n",
      "19826/19826 [==============================] - ETA: 1s - loss: 0.016 - ETA: 0s - loss: 0.036 - ETA: 0s - loss: 0.040 - ETA: 0s - loss: 0.037 - ETA: 0s - loss: 0.036 - ETA: 0s - loss: 0.037 - ETA: 0s - loss: 0.036 - ETA: 0s - loss: 0.035 - ETA: 0s - loss: 0.035 - ETA: 0s - loss: 0.034 - ETA: 0s - loss: 0.034 - ETA: 0s - loss: 0.034 - ETA: 0s - loss: 0.034 - ETA: 0s - loss: 0.034 - ETA: 0s - loss: 0.034 - ETA: 0s - loss: 0.034 - ETA: 0s - loss: 0.034 - ETA: 0s - loss: 0.034 - 1s 46us/step - loss: 0.0346\n",
      "Epoch 53/100\n",
      "19826/19826 [==============================] - ETA: 1s - loss: 0.030 - ETA: 0s - loss: 0.029 - ETA: 0s - loss: 0.031 - ETA: 0s - loss: 0.031 - ETA: 0s - loss: 0.030 - ETA: 0s - loss: 0.030 - ETA: 0s - loss: 0.030 - ETA: 0s - loss: 0.031 - ETA: 0s - loss: 0.030 - ETA: 0s - loss: 0.032 - ETA: 0s - loss: 0.031 - ETA: 0s - loss: 0.031 - ETA: 0s - loss: 0.031 - ETA: 0s - loss: 0.031 - ETA: 0s - loss: 0.031 - ETA: 0s - loss: 0.031 - ETA: 0s - loss: 0.031 - ETA: 0s - loss: 0.031 - 1s 46us/step - loss: 0.0321\n",
      "Epoch 54/100\n",
      "19826/19826 [==============================] - ETA: 1s - loss: 0.023 - ETA: 0s - loss: 0.038 - ETA: 0s - loss: 0.037 - ETA: 0s - loss: 0.035 - ETA: 0s - loss: 0.036 - ETA: 0s - loss: 0.036 - ETA: 0s - loss: 0.038 - ETA: 0s - loss: 0.038 - ETA: 0s - loss: 0.039 - ETA: 0s - loss: 0.037 - ETA: 0s - loss: 0.036 - ETA: 0s - loss: 0.035 - ETA: 0s - loss: 0.036 - ETA: 0s - loss: 0.035 - ETA: 0s - loss: 0.035 - ETA: 0s - loss: 0.035 - ETA: 0s - loss: 0.035 - ETA: 0s - loss: 0.034 - ETA: 0s - loss: 0.035 - ETA: 0s - loss: 0.035 - 1s 52us/step - loss: 0.0351\n",
      "Epoch 55/100\n",
      "19826/19826 [==============================] - ETA: 1s - loss: 0.035 - ETA: 0s - loss: 0.025 - ETA: 0s - loss: 0.029 - ETA: 0s - loss: 0.028 - ETA: 0s - loss: 0.030 - ETA: 0s - loss: 0.030 - ETA: 0s - loss: 0.032 - ETA: 0s - loss: 0.031 - ETA: 0s - loss: 0.031 - ETA: 0s - loss: 0.030 - ETA: 0s - loss: 0.030 - ETA: 0s - loss: 0.030 - ETA: 0s - loss: 0.030 - ETA: 0s - loss: 0.030 - ETA: 0s - loss: 0.030 - ETA: 0s - loss: 0.030 - ETA: 0s - loss: 0.030 - ETA: 0s - loss: 0.030 - ETA: 0s - loss: 0.031 - ETA: 0s - loss: 0.031 - ETA: 0s - loss: 0.030 - ETA: 0s - loss: 0.030 - 1s 56us/step - loss: 0.0307\n",
      "Epoch 56/100\n",
      "19826/19826 [==============================] - ETA: 1s - loss: 0.019 - ETA: 1s - loss: 0.034 - ETA: 1s - loss: 0.031 - ETA: 1s - loss: 0.028 - ETA: 1s - loss: 0.027 - ETA: 1s - loss: 0.025 - ETA: 1s - loss: 0.025 - ETA: 0s - loss: 0.025 - ETA: 0s - loss: 0.025 - ETA: 0s - loss: 0.027 - ETA: 0s - loss: 0.026 - ETA: 0s - loss: 0.027 - ETA: 0s - loss: 0.027 - ETA: 0s - loss: 0.026 - ETA: 0s - loss: 0.026 - ETA: 0s - loss: 0.027 - ETA: 0s - loss: 0.027 - ETA: 0s - loss: 0.027 - ETA: 0s - loss: 0.027 - ETA: 0s - loss: 0.027 - ETA: 0s - loss: 0.027 - ETA: 0s - loss: 0.027 - ETA: 0s - loss: 0.027 - ETA: 0s - loss: 0.027 - ETA: 0s - loss: 0.027 - ETA: 0s - loss: 0.027 - ETA: 0s - loss: 0.027 - 1s 71us/step - loss: 0.0269\n",
      "Epoch 57/100\n",
      "19826/19826 [==============================] - ETA: 1s - loss: 0.028 - ETA: 0s - loss: 0.023 - ETA: 0s - loss: 0.024 - ETA: 0s - loss: 0.024 - ETA: 0s - loss: 0.024 - ETA: 0s - loss: 0.025 - ETA: 0s - loss: 0.027 - ETA: 0s - loss: 0.027 - ETA: 0s - loss: 0.026 - ETA: 0s - loss: 0.028 - ETA: 0s - loss: 0.028 - ETA: 0s - loss: 0.028 - ETA: 0s - loss: 0.028 - ETA: 0s - loss: 0.028 - ETA: 0s - loss: 0.028 - ETA: 0s - loss: 0.028 - ETA: 0s - loss: 0.028 - ETA: 0s - loss: 0.028 - ETA: 0s - loss: 0.028 - ETA: 0s - loss: 0.028 - ETA: 0s - loss: 0.027 - ETA: 0s - loss: 0.027 - ETA: 0s - loss: 0.027 - ETA: 0s - loss: 0.027 - ETA: 0s - loss: 0.027 - ETA: 0s - loss: 0.027 - ETA: 0s - loss: 0.027 - ETA: 0s - loss: 0.027 - ETA: 0s - loss: 0.027 - ETA: 0s - loss: 0.027 - ETA: 0s - loss: 0.027 - ETA: 0s - loss: 0.027 - 2s 84us/step - loss: 0.0280\n",
      "Epoch 58/100\n",
      "19826/19826 [==============================] - ETA: 2s - loss: 0.033 - ETA: 1s - loss: 0.024 - ETA: 1s - loss: 0.028 - ETA: 1s - loss: 0.030 - ETA: 1s - loss: 0.028 - ETA: 1s - loss: 0.027 - ETA: 1s - loss: 0.030 - ETA: 0s - loss: 0.029 - ETA: 0s - loss: 0.029 - ETA: 0s - loss: 0.029 - ETA: 0s - loss: 0.028 - ETA: 0s - loss: 0.028 - ETA: 0s - loss: 0.029 - ETA: 0s - loss: 0.028 - ETA: 0s - loss: 0.027 - ETA: 0s - loss: 0.027 - ETA: 0s - loss: 0.027 - ETA: 0s - loss: 0.027 - ETA: 0s - loss: 0.027 - ETA: 0s - loss: 0.027 - ETA: 0s - loss: 0.026 - ETA: 0s - loss: 0.026 - ETA: 0s - loss: 0.026 - ETA: 0s - loss: 0.026 - ETA: 0s - loss: 0.026 - ETA: 0s - loss: 0.026 - ETA: 0s - loss: 0.026 - ETA: 0s - loss: 0.026 - ETA: 0s - loss: 0.026 - ETA: 0s - loss: 0.026 - 2s 80us/step - loss: 0.0264\n",
      "Epoch 59/100\n",
      "19826/19826 [==============================] - ETA: 3s - loss: 0.052 - ETA: 1s - loss: 0.025 - ETA: 1s - loss: 0.021 - ETA: 1s - loss: 0.020 - ETA: 1s - loss: 0.021 - ETA: 1s - loss: 0.021 - ETA: 1s - loss: 0.021 - ETA: 1s - loss: 0.021 - ETA: 0s - loss: 0.022 - ETA: 0s - loss: 0.022 - ETA: 0s - loss: 0.022 - ETA: 0s - loss: 0.023 - ETA: 0s - loss: 0.022 - ETA: 0s - loss: 0.023 - ETA: 0s - loss: 0.023 - ETA: 0s - loss: 0.023 - ETA: 0s - loss: 0.023 - ETA: 0s - loss: 0.023 - ETA: 0s - loss: 0.024 - ETA: 0s - loss: 0.023 - ETA: 0s - loss: 0.024 - ETA: 0s - loss: 0.025 - 1s 57us/step - loss: 0.0255\n",
      "Epoch 60/100\n",
      "19826/19826 [==============================] - ETA: 1s - loss: 0.063 - ETA: 1s - loss: 0.023 - ETA: 0s - loss: 0.022 - ETA: 0s - loss: 0.022 - ETA: 0s - loss: 0.022 - ETA: 0s - loss: 0.023 - ETA: 0s - loss: 0.023 - ETA: 0s - loss: 0.023 - ETA: 0s - loss: 0.024 - ETA: 0s - loss: 0.024 - ETA: 0s - loss: 0.023 - ETA: 0s - loss: 0.024 - ETA: 0s - loss: 0.023 - ETA: 0s - loss: 0.023 - ETA: 0s - loss: 0.023 - ETA: 0s - loss: 0.023 - ETA: 0s - loss: 0.023 - ETA: 0s - loss: 0.024 - ETA: 0s - loss: 0.024 - ETA: 0s - loss: 0.024 - 1s 53us/step - loss: 0.0253\n",
      "Epoch 61/100\n",
      "19826/19826 [==============================] - ETA: 1s - loss: 0.024 - ETA: 0s - loss: 0.024 - ETA: 0s - loss: 0.027 - ETA: 0s - loss: 0.028 - ETA: 0s - loss: 0.025 - ETA: 0s - loss: 0.025 - ETA: 0s - loss: 0.026 - ETA: 0s - loss: 0.026 - ETA: 0s - loss: 0.028 - ETA: 0s - loss: 0.028 - ETA: 0s - loss: 0.028 - ETA: 0s - loss: 0.027 - ETA: 0s - loss: 0.027 - ETA: 0s - loss: 0.027 - ETA: 0s - loss: 0.027 - ETA: 0s - loss: 0.026 - ETA: 0s - loss: 0.026 - ETA: 0s - loss: 0.026 - ETA: 0s - loss: 0.026 - ETA: 0s - loss: 0.026 - 1s 50us/step - loss: 0.0263\n",
      "Epoch 62/100\n",
      "19826/19826 [==============================] - ETA: 1s - loss: 0.017 - ETA: 0s - loss: 0.022 - ETA: 0s - loss: 0.022 - ETA: 0s - loss: 0.024 - ETA: 0s - loss: 0.024 - ETA: 0s - loss: 0.024 - ETA: 0s - loss: 0.022 - ETA: 0s - loss: 0.024 - ETA: 0s - loss: 0.024 - ETA: 0s - loss: 0.024 - ETA: 0s - loss: 0.024 - ETA: 0s - loss: 0.024 - ETA: 0s - loss: 0.024 - ETA: 0s - loss: 0.025 - ETA: 0s - loss: 0.024 - ETA: 0s - loss: 0.024 - ETA: 0s - loss: 0.025 - ETA: 0s - loss: 0.025 - 1s 47us/step - loss: 0.0253\n",
      "Epoch 63/100\n",
      "19826/19826 [==============================] - ETA: 1s - loss: 0.004 - ETA: 0s - loss: 0.024 - ETA: 0s - loss: 0.021 - ETA: 0s - loss: 0.020 - ETA: 0s - loss: 0.021 - ETA: 0s - loss: 0.022 - ETA: 0s - loss: 0.022 - ETA: 0s - loss: 0.022 - ETA: 0s - loss: 0.022 - ETA: 0s - loss: 0.022 - ETA: 0s - loss: 0.023 - ETA: 0s - loss: 0.024 - ETA: 0s - loss: 0.024 - ETA: 0s - loss: 0.024 - ETA: 0s - loss: 0.024 - ETA: 0s - loss: 0.024 - ETA: 0s - loss: 0.024 - ETA: 0s - loss: 0.023 - ETA: 0s - loss: 0.023 - 1s 49us/step - loss: 0.0236\n",
      "Epoch 64/100\n",
      "19826/19826 [==============================] - ETA: 1s - loss: 0.007 - ETA: 1s - loss: 0.016 - ETA: 1s - loss: 0.019 - ETA: 1s - loss: 0.022 - ETA: 1s - loss: 0.021 - ETA: 0s - loss: 0.023 - ETA: 0s - loss: 0.023 - ETA: 0s - loss: 0.022 - ETA: 0s - loss: 0.022 - ETA: 0s - loss: 0.022 - ETA: 0s - loss: 0.021 - ETA: 0s - loss: 0.021 - ETA: 0s - loss: 0.020 - ETA: 0s - loss: 0.020 - ETA: 0s - loss: 0.020 - ETA: 0s - loss: 0.020 - ETA: 0s - loss: 0.020 - ETA: 0s - loss: 0.020 - ETA: 0s - loss: 0.020 - ETA: 0s - loss: 0.020 - ETA: 0s - loss: 0.021 - 1s 53us/step - loss: 0.0217\n",
      "Epoch 65/100\n",
      "19826/19826 [==============================] - ETA: 2s - loss: 0.011 - ETA: 1s - loss: 0.018 - ETA: 0s - loss: 0.018 - ETA: 0s - loss: 0.021 - ETA: 0s - loss: 0.021 - ETA: 0s - loss: 0.021 - ETA: 0s - loss: 0.021 - ETA: 0s - loss: 0.021 - ETA: 0s - loss: 0.021 - ETA: 0s - loss: 0.021 - ETA: 0s - loss: 0.021 - ETA: 0s - loss: 0.021 - ETA: 0s - loss: 0.021 - ETA: 0s - loss: 0.022 - ETA: 0s - loss: 0.022 - ETA: 0s - loss: 0.022 - ETA: 0s - loss: 0.022 - ETA: 0s - loss: 0.022 - ETA: 0s - loss: 0.022 - ETA: 0s - loss: 0.021 - ETA: 0s - loss: 0.022 - 1s 55us/step - loss: 0.0223\n",
      "Epoch 66/100\n",
      "19826/19826 [==============================] - ETA: 1s - loss: 0.014 - ETA: 1s - loss: 0.019 - ETA: 1s - loss: 0.019 - ETA: 1s - loss: 0.018 - ETA: 1s - loss: 0.017 - ETA: 1s - loss: 0.017 - ETA: 1s - loss: 0.017 - ETA: 1s - loss: 0.017 - ETA: 1s - loss: 0.017 - ETA: 0s - loss: 0.017 - ETA: 0s - loss: 0.018 - ETA: 0s - loss: 0.019 - ETA: 0s - loss: 0.019 - ETA: 0s - loss: 0.020 - ETA: 0s - loss: 0.019 - ETA: 0s - loss: 0.019 - ETA: 0s - loss: 0.019 - ETA: 0s - loss: 0.020 - ETA: 0s - loss: 0.020 - ETA: 0s - loss: 0.020 - ETA: 0s - loss: 0.020 - ETA: 0s - loss: 0.020 - ETA: 0s - loss: 0.021 - 1s 59us/step - loss: 0.0214\n",
      "Epoch 67/100\n",
      "19826/19826 [==============================] - ETA: 2s - loss: 0.008 - ETA: 1s - loss: 0.022 - ETA: 1s - loss: 0.028 - ETA: 0s - loss: 0.024 - ETA: 0s - loss: 0.024 - ETA: 0s - loss: 0.022 - ETA: 0s - loss: 0.021 - ETA: 0s - loss: 0.021 - ETA: 0s - loss: 0.020 - ETA: 0s - loss: 0.020 - ETA: 0s - loss: 0.020 - ETA: 0s - loss: 0.020 - ETA: 0s - loss: 0.020 - ETA: 0s - loss: 0.021 - ETA: 0s - loss: 0.021 - ETA: 0s - loss: 0.021 - ETA: 0s - loss: 0.021 - ETA: 0s - loss: 0.021 - ETA: 0s - loss: 0.022 - ETA: 0s - loss: 0.022 - ETA: 0s - loss: 0.022 - ETA: 0s - loss: 0.022 - ETA: 0s - loss: 0.023 - ETA: 0s - loss: 0.023 - ETA: 0s - loss: 0.023 - ETA: 0s - loss: 0.023 - 1s 68us/step - loss: 0.0238\n",
      "Epoch 68/100\n",
      "19826/19826 [==============================] - ETA: 3s - loss: 0.016 - ETA: 1s - loss: 0.015 - ETA: 2s - loss: 0.018 - ETA: 2s - loss: 0.018 - ETA: 2s - loss: 0.018 - ETA: 2s - loss: 0.020 - ETA: 2s - loss: 0.021 - ETA: 2s - loss: 0.021 - ETA: 2s - loss: 0.021 - ETA: 2s - loss: 0.020 - ETA: 1s - loss: 0.021 - ETA: 1s - loss: 0.023 - ETA: 1s - loss: 0.024 - ETA: 1s - loss: 0.024 - ETA: 1s - loss: 0.023 - ETA: 1s - loss: 0.023 - ETA: 1s - loss: 0.022 - ETA: 0s - loss: 0.022 - ETA: 0s - loss: 0.022 - ETA: 0s - loss: 0.022 - ETA: 0s - loss: 0.021 - ETA: 0s - loss: 0.022 - ETA: 0s - loss: 0.022 - ETA: 0s - loss: 0.022 - ETA: 0s - loss: 0.022 - ETA: 0s - loss: 0.022 - ETA: 0s - loss: 0.022 - ETA: 0s - loss: 0.022 - ETA: 0s - loss: 0.022 - 1s 75us/step - loss: 0.0225\n",
      "Epoch 69/100\n",
      "19826/19826 [==============================] - ETA: 2s - loss: 0.016 - ETA: 1s - loss: 0.023 - ETA: 1s - loss: 0.021 - ETA: 1s - loss: 0.020 - ETA: 1s - loss: 0.022 - ETA: 0s - loss: 0.023 - ETA: 0s - loss: 0.023 - ETA: 0s - loss: 0.023 - ETA: 0s - loss: 0.023 - ETA: 0s - loss: 0.023 - ETA: 0s - loss: 0.022 - ETA: 0s - loss: 0.022 - ETA: 0s - loss: 0.021 - ETA: 0s - loss: 0.021 - ETA: 0s - loss: 0.021 - ETA: 0s - loss: 0.021 - ETA: 0s - loss: 0.021 - ETA: 0s - loss: 0.020 - ETA: 0s - loss: 0.020 - ETA: 0s - loss: 0.020 - ETA: 0s - loss: 0.020 - ETA: 0s - loss: 0.020 - ETA: 0s - loss: 0.020 - 1s 59us/step - loss: 0.0204\n",
      "Epoch 70/100\n",
      "19826/19826 [==============================] - ETA: 2s - loss: 0.026 - ETA: 1s - loss: 0.019 - ETA: 0s - loss: 0.021 - ETA: 0s - loss: 0.020 - ETA: 0s - loss: 0.020 - ETA: 0s - loss: 0.019 - ETA: 0s - loss: 0.019 - ETA: 0s - loss: 0.019 - ETA: 0s - loss: 0.020 - ETA: 0s - loss: 0.020 - ETA: 0s - loss: 0.021 - ETA: 0s - loss: 0.021 - ETA: 0s - loss: 0.021 - ETA: 0s - loss: 0.021 - ETA: 0s - loss: 0.021 - ETA: 0s - loss: 0.020 - ETA: 0s - loss: 0.020 - ETA: 0s - loss: 0.020 - ETA: 0s - loss: 0.020 - ETA: 0s - loss: 0.020 - ETA: 0s - loss: 0.020 - ETA: 0s - loss: 0.019 - 1s 56us/step - loss: 0.0200\n",
      "Epoch 71/100\n",
      "19826/19826 [==============================] - ETA: 2s - loss: 0.010 - ETA: 1s - loss: 0.014 - ETA: 1s - loss: 0.013 - ETA: 0s - loss: 0.015 - ETA: 0s - loss: 0.018 - ETA: 0s - loss: 0.018 - ETA: 0s - loss: 0.018 - ETA: 0s - loss: 0.019 - ETA: 0s - loss: 0.019 - ETA: 0s - loss: 0.019 - ETA: 0s - loss: 0.019 - ETA: 0s - loss: 0.019 - ETA: 0s - loss: 0.019 - ETA: 0s - loss: 0.019 - ETA: 0s - loss: 0.019 - ETA: 0s - loss: 0.019 - ETA: 0s - loss: 0.019 - ETA: 0s - loss: 0.019 - ETA: 0s - loss: 0.019 - ETA: 0s - loss: 0.019 - ETA: 0s - loss: 0.018 - ETA: 0s - loss: 0.019 - 1s 58us/step - loss: 0.0190\n",
      "Epoch 72/100\n",
      "19826/19826 [==============================] - ETA: 1s - loss: 0.010 - ETA: 0s - loss: 0.017 - ETA: 0s - loss: 0.017 - ETA: 0s - loss: 0.018 - ETA: 0s - loss: 0.020 - ETA: 0s - loss: 0.020 - ETA: 0s - loss: 0.021 - ETA: 0s - loss: 0.020 - ETA: 0s - loss: 0.020 - ETA: 0s - loss: 0.020 - ETA: 0s - loss: 0.020 - ETA: 0s - loss: 0.020 - ETA: 0s - loss: 0.019 - ETA: 0s - loss: 0.019 - ETA: 0s - loss: 0.019 - ETA: 0s - loss: 0.020 - ETA: 0s - loss: 0.020 - ETA: 0s - loss: 0.020 - ETA: 0s - loss: 0.021 - ETA: 0s - loss: 0.021 - ETA: 0s - loss: 0.021 - ETA: 0s - loss: 0.021 - ETA: 0s - loss: 0.022 - ETA: 0s - loss: 0.022 - 1s 62us/step - loss: 0.0223\n",
      "Epoch 73/100\n",
      "19826/19826 [==============================] - ETA: 2s - loss: 0.038 - ETA: 1s - loss: 0.029 - ETA: 1s - loss: 0.021 - ETA: 0s - loss: 0.023 - ETA: 0s - loss: 0.025 - ETA: 0s - loss: 0.024 - ETA: 0s - loss: 0.023 - ETA: 0s - loss: 0.023 - ETA: 0s - loss: 0.023 - ETA: 0s - loss: 0.024 - ETA: 0s - loss: 0.023 - ETA: 0s - loss: 0.023 - ETA: 0s - loss: 0.023 - ETA: 0s - loss: 0.022 - ETA: 0s - loss: 0.022 - ETA: 0s - loss: 0.022 - ETA: 0s - loss: 0.022 - ETA: 0s - loss: 0.021 - ETA: 0s - loss: 0.021 - ETA: 0s - loss: 0.021 - 1s 51us/step - loss: 0.0216\n",
      "Epoch 74/100\n",
      "19826/19826 [==============================] - ETA: 1s - loss: 0.019 - ETA: 0s - loss: 0.019 - ETA: 0s - loss: 0.021 - ETA: 0s - loss: 0.021 - ETA: 0s - loss: 0.021 - ETA: 0s - loss: 0.022 - ETA: 0s - loss: 0.021 - ETA: 0s - loss: 0.020 - ETA: 0s - loss: 0.021 - ETA: 0s - loss: 0.021 - ETA: 0s - loss: 0.021 - ETA: 0s - loss: 0.021 - ETA: 0s - loss: 0.020 - ETA: 0s - loss: 0.020 - ETA: 0s - loss: 0.019 - ETA: 0s - loss: 0.019 - ETA: 0s - loss: 0.019 - ETA: 0s - loss: 0.019 - ETA: 0s - loss: 0.019 - 1s 50us/step - loss: 0.0198\n",
      "Epoch 75/100\n",
      "19826/19826 [==============================] - ETA: 1s - loss: 0.005 - ETA: 1s - loss: 0.017 - ETA: 0s - loss: 0.018 - ETA: 0s - loss: 0.018 - ETA: 0s - loss: 0.018 - ETA: 0s - loss: 0.019 - ETA: 0s - loss: 0.019 - ETA: 0s - loss: 0.020 - ETA: 0s - loss: 0.020 - ETA: 0s - loss: 0.020 - ETA: 0s - loss: 0.019 - ETA: 0s - loss: 0.019 - ETA: 0s - loss: 0.019 - ETA: 0s - loss: 0.019 - ETA: 0s - loss: 0.019 - ETA: 0s - loss: 0.018 - ETA: 0s - loss: 0.019 - ETA: 0s - loss: 0.019 - ETA: 0s - loss: 0.019 - ETA: 0s - loss: 0.019 - ETA: 0s - loss: 0.019 - 1s 53us/step - loss: 0.0192\n",
      "Epoch 76/100\n",
      "19826/19826 [==============================] - ETA: 1s - loss: 0.006 - ETA: 0s - loss: 0.015 - ETA: 0s - loss: 0.014 - ETA: 0s - loss: 0.016 - ETA: 0s - loss: 0.017 - ETA: 0s - loss: 0.016 - ETA: 0s - loss: 0.016 - ETA: 0s - loss: 0.016 - ETA: 0s - loss: 0.017 - ETA: 0s - loss: 0.016 - ETA: 0s - loss: 0.016 - ETA: 0s - loss: 0.016 - ETA: 0s - loss: 0.016 - ETA: 0s - loss: 0.016 - ETA: 0s - loss: 0.016 - ETA: 0s - loss: 0.016 - ETA: 0s - loss: 0.016 - ETA: 0s - loss: 0.016 - ETA: 0s - loss: 0.016 - ETA: 0s - loss: 0.016 - ETA: 0s - loss: 0.016 - ETA: 0s - loss: 0.016 - ETA: 0s - loss: 0.016 - 1s 60us/step - loss: 0.0164\n",
      "Epoch 77/100\n",
      "19826/19826 [==============================] - ETA: 3s - loss: 0.013 - ETA: 1s - loss: 0.013 - ETA: 1s - loss: 0.013 - ETA: 1s - loss: 0.016 - ETA: 1s - loss: 0.017 - ETA: 1s - loss: 0.016 - ETA: 1s - loss: 0.017 - ETA: 1s - loss: 0.017 - ETA: 0s - loss: 0.017 - ETA: 0s - loss: 0.016 - ETA: 0s - loss: 0.016 - ETA: 0s - loss: 0.016 - ETA: 0s - loss: 0.016 - ETA: 0s - loss: 0.016 - ETA: 0s - loss: 0.016 - ETA: 0s - loss: 0.016 - ETA: 0s - loss: 0.016 - ETA: 0s - loss: 0.016 - ETA: 0s - loss: 0.016 - ETA: 0s - loss: 0.016 - ETA: 0s - loss: 0.017 - ETA: 0s - loss: 0.017 - ETA: 0s - loss: 0.018 - ETA: 0s - loss: 0.018 - ETA: 0s - loss: 0.018 - ETA: 0s - loss: 0.018 - 1s 67us/step - loss: 0.0187\n",
      "Epoch 78/100\n",
      "19826/19826 [==============================] - ETA: 1s - loss: 0.023 - ETA: 1s - loss: 0.022 - ETA: 1s - loss: 0.023 - ETA: 0s - loss: 0.021 - ETA: 0s - loss: 0.022 - ETA: 0s - loss: 0.020 - ETA: 0s - loss: 0.021 - ETA: 0s - loss: 0.020 - ETA: 0s - loss: 0.020 - ETA: 0s - loss: 0.019 - ETA: 0s - loss: 0.020 - ETA: 0s - loss: 0.019 - ETA: 0s - loss: 0.019 - ETA: 0s - loss: 0.018 - ETA: 0s - loss: 0.018 - ETA: 0s - loss: 0.018 - ETA: 0s - loss: 0.017 - ETA: 0s - loss: 0.018 - ETA: 0s - loss: 0.018 - ETA: 0s - loss: 0.018 - ETA: 0s - loss: 0.018 - 1s 54us/step - loss: 0.0185\n",
      "Epoch 79/100\n",
      "19826/19826 [==============================] - ETA: 1s - loss: 0.008 - ETA: 0s - loss: 0.025 - ETA: 0s - loss: 0.019 - ETA: 0s - loss: 0.019 - ETA: 0s - loss: 0.018 - ETA: 0s - loss: 0.020 - ETA: 0s - loss: 0.020 - ETA: 0s - loss: 0.020 - ETA: 0s - loss: 0.019 - ETA: 0s - loss: 0.019 - ETA: 0s - loss: 0.020 - ETA: 0s - loss: 0.020 - ETA: 0s - loss: 0.020 - ETA: 0s - loss: 0.020 - ETA: 0s - loss: 0.020 - ETA: 0s - loss: 0.020 - ETA: 0s - loss: 0.020 - ETA: 0s - loss: 0.019 - ETA: 0s - loss: 0.020 - 1s 49us/step - loss: 0.0199\n",
      "Epoch 80/100\n",
      "19826/19826 [==============================] - ETA: 2s - loss: 0.006 - ETA: 0s - loss: 0.013 - ETA: 0s - loss: 0.014 - ETA: 0s - loss: 0.014 - ETA: 0s - loss: 0.015 - ETA: 0s - loss: 0.018 - ETA: 0s - loss: 0.018 - ETA: 0s - loss: 0.019 - ETA: 0s - loss: 0.019 - ETA: 0s - loss: 0.019 - ETA: 0s - loss: 0.018 - ETA: 0s - loss: 0.018 - ETA: 0s - loss: 0.019 - ETA: 0s - loss: 0.018 - ETA: 0s - loss: 0.019 - ETA: 0s - loss: 0.020 - ETA: 0s - loss: 0.020 - ETA: 0s - loss: 0.020 - ETA: 0s - loss: 0.020 - ETA: 0s - loss: 0.020 - ETA: 0s - loss: 0.020 - 1s 54us/step - loss: 0.0208\n",
      "Epoch 81/100\n",
      "19826/19826 [==============================] - ETA: 1s - loss: 0.024 - ETA: 1s - loss: 0.022 - ETA: 0s - loss: 0.024 - ETA: 0s - loss: 0.024 - ETA: 0s - loss: 0.022 - ETA: 0s - loss: 0.023 - ETA: 0s - loss: 0.023 - ETA: 0s - loss: 0.022 - ETA: 0s - loss: 0.021 - ETA: 0s - loss: 0.021 - ETA: 0s - loss: 0.021 - ETA: 0s - loss: 0.021 - ETA: 0s - loss: 0.020 - ETA: 0s - loss: 0.020 - ETA: 0s - loss: 0.020 - ETA: 0s - loss: 0.020 - ETA: 0s - loss: 0.020 - ETA: 0s - loss: 0.020 - ETA: 0s - loss: 0.020 - ETA: 0s - loss: 0.020 - ETA: 0s - loss: 0.020 - ETA: 0s - loss: 0.019 - 1s 59us/step - loss: 0.0199\n",
      "Epoch 82/100\n",
      "19826/19826 [==============================] - ETA: 0s - loss: 0.024 - ETA: 1s - loss: 0.018 - ETA: 1s - loss: 0.018 - ETA: 1s - loss: 0.018 - ETA: 1s - loss: 0.018 - ETA: 1s - loss: 0.017 - ETA: 1s - loss: 0.017 - ETA: 1s - loss: 0.016 - ETA: 0s - loss: 0.017 - ETA: 0s - loss: 0.017 - ETA: 0s - loss: 0.017 - ETA: 0s - loss: 0.016 - ETA: 0s - loss: 0.017 - ETA: 0s - loss: 0.017 - ETA: 0s - loss: 0.017 - ETA: 0s - loss: 0.017 - ETA: 0s - loss: 0.017 - ETA: 0s - loss: 0.017 - ETA: 0s - loss: 0.017 - ETA: 0s - loss: 0.017 - ETA: 0s - loss: 0.017 - ETA: 0s - loss: 0.017 - ETA: 0s - loss: 0.017 - 1s 61us/step - loss: 0.0170\n",
      "Epoch 83/100\n",
      "19826/19826 [==============================] - ETA: 1s - loss: 0.020 - ETA: 0s - loss: 0.018 - ETA: 0s - loss: 0.016 - ETA: 0s - loss: 0.015 - ETA: 0s - loss: 0.016 - ETA: 0s - loss: 0.016 - ETA: 0s - loss: 0.016 - ETA: 0s - loss: 0.016 - ETA: 0s - loss: 0.017 - ETA: 0s - loss: 0.017 - ETA: 0s - loss: 0.017 - ETA: 0s - loss: 0.016 - ETA: 0s - loss: 0.016 - ETA: 0s - loss: 0.016 - ETA: 0s - loss: 0.017 - ETA: 0s - loss: 0.018 - ETA: 0s - loss: 0.018 - ETA: 0s - loss: 0.018 - ETA: 0s - loss: 0.018 - 1s 48us/step - loss: 0.0184\n",
      "Epoch 84/100\n",
      "19826/19826 [==============================] - ETA: 0s - loss: 0.022 - ETA: 0s - loss: 0.015 - ETA: 0s - loss: 0.013 - ETA: 0s - loss: 0.013 - ETA: 0s - loss: 0.015 - ETA: 0s - loss: 0.015 - ETA: 0s - loss: 0.016 - ETA: 0s - loss: 0.016 - ETA: 0s - loss: 0.016 - ETA: 0s - loss: 0.016 - ETA: 0s - loss: 0.015 - ETA: 0s - loss: 0.015 - ETA: 0s - loss: 0.015 - ETA: 0s - loss: 0.014 - ETA: 0s - loss: 0.015 - ETA: 0s - loss: 0.015 - ETA: 0s - loss: 0.015 - ETA: 0s - loss: 0.015 - ETA: 0s - loss: 0.015 - ETA: 0s - loss: 0.015 - ETA: 0s - loss: 0.016 - ETA: 0s - loss: 0.016 - 1s 57us/step - loss: 0.0160\n",
      "Epoch 85/100\n",
      "19826/19826 [==============================] - ETA: 2s - loss: 0.017 - ETA: 1s - loss: 0.012 - ETA: 1s - loss: 0.010 - ETA: 1s - loss: 0.013 - ETA: 0s - loss: 0.013 - ETA: 0s - loss: 0.013 - ETA: 0s - loss: 0.013 - ETA: 0s - loss: 0.013 - ETA: 0s - loss: 0.014 - ETA: 0s - loss: 0.015 - ETA: 0s - loss: 0.015 - ETA: 0s - loss: 0.015 - ETA: 0s - loss: 0.015 - ETA: 0s - loss: 0.015 - ETA: 0s - loss: 0.015 - ETA: 0s - loss: 0.015 - ETA: 0s - loss: 0.015 - ETA: 0s - loss: 0.016 - ETA: 0s - loss: 0.015 - ETA: 0s - loss: 0.015 - ETA: 0s - loss: 0.015 - ETA: 0s - loss: 0.015 - ETA: 0s - loss: 0.016 - 1s 60us/step - loss: 0.0159\n",
      "Epoch 86/100\n",
      "19826/19826 [==============================] - ETA: 1s - loss: 0.006 - ETA: 2s - loss: 0.011 - ETA: 2s - loss: 0.012 - ETA: 2s - loss: 0.012 - ETA: 2s - loss: 0.011 - ETA: 2s - loss: 0.013 - ETA: 1s - loss: 0.016 - ETA: 1s - loss: 0.016 - ETA: 1s - loss: 0.016 - ETA: 1s - loss: 0.016 - ETA: 1s - loss: 0.016 - ETA: 0s - loss: 0.016 - ETA: 0s - loss: 0.016 - ETA: 0s - loss: 0.016 - ETA: 0s - loss: 0.016 - ETA: 0s - loss: 0.015 - ETA: 0s - loss: 0.016 - ETA: 0s - loss: 0.015 - ETA: 0s - loss: 0.015 - ETA: 0s - loss: 0.015 - ETA: 0s - loss: 0.015 - ETA: 0s - loss: 0.015 - ETA: 0s - loss: 0.015 - ETA: 0s - loss: 0.015 - ETA: 0s - loss: 0.015 - ETA: 0s - loss: 0.015 - ETA: 0s - loss: 0.015 - 1s 71us/step - loss: 0.0154\n",
      "Epoch 87/100\n",
      "19826/19826 [==============================] - ETA: 2s - loss: 0.005 - ETA: 1s - loss: 0.018 - ETA: 1s - loss: 0.016 - ETA: 1s - loss: 0.018 - ETA: 1s - loss: 0.017 - ETA: 0s - loss: 0.017 - ETA: 0s - loss: 0.018 - ETA: 0s - loss: 0.019 - ETA: 0s - loss: 0.019 - ETA: 0s - loss: 0.019 - ETA: 0s - loss: 0.019 - ETA: 0s - loss: 0.019 - ETA: 0s - loss: 0.019 - ETA: 0s - loss: 0.019 - ETA: 0s - loss: 0.019 - ETA: 0s - loss: 0.020 - ETA: 0s - loss: 0.019 - ETA: 0s - loss: 0.020 - ETA: 0s - loss: 0.020 - ETA: 0s - loss: 0.020 - ETA: 0s - loss: 0.019 - ETA: 0s - loss: 0.020 - ETA: 0s - loss: 0.020 - ETA: 0s - loss: 0.020 - 1s 63us/step - loss: 0.0203\n",
      "Epoch 88/100\n",
      "19826/19826 [==============================] - ETA: 1s - loss: 0.014 - ETA: 1s - loss: 0.016 - ETA: 1s - loss: 0.016 - ETA: 1s - loss: 0.016 - ETA: 0s - loss: 0.016 - ETA: 0s - loss: 0.017 - ETA: 0s - loss: 0.016 - ETA: 0s - loss: 0.017 - ETA: 0s - loss: 0.017 - ETA: 0s - loss: 0.017 - ETA: 0s - loss: 0.018 - ETA: 0s - loss: 0.018 - ETA: 0s - loss: 0.019 - ETA: 0s - loss: 0.019 - ETA: 0s - loss: 0.019 - ETA: 0s - loss: 0.018 - ETA: 0s - loss: 0.018 - ETA: 0s - loss: 0.018 - ETA: 0s - loss: 0.019 - ETA: 0s - loss: 0.019 - ETA: 0s - loss: 0.020 - ETA: 0s - loss: 0.020 - ETA: 0s - loss: 0.020 - 1s 61us/step - loss: 0.0201\n",
      "Epoch 89/100\n",
      "19826/19826 [==============================] - ETA: 1s - loss: 0.012 - ETA: 1s - loss: 0.022 - ETA: 1s - loss: 0.020 - ETA: 1s - loss: 0.021 - ETA: 1s - loss: 0.022 - ETA: 0s - loss: 0.021 - ETA: 0s - loss: 0.019 - ETA: 0s - loss: 0.018 - ETA: 0s - loss: 0.017 - ETA: 0s - loss: 0.017 - ETA: 0s - loss: 0.017 - ETA: 0s - loss: 0.016 - ETA: 0s - loss: 0.016 - ETA: 0s - loss: 0.016 - ETA: 0s - loss: 0.016 - ETA: 0s - loss: 0.016 - ETA: 0s - loss: 0.016 - ETA: 0s - loss: 0.016 - ETA: 0s - loss: 0.017 - ETA: 0s - loss: 0.017 - ETA: 0s - loss: 0.017 - ETA: 0s - loss: 0.017 - ETA: 0s - loss: 0.018 - ETA: 0s - loss: 0.018 - 1s 62us/step - loss: 0.0182\n",
      "Epoch 90/100\n",
      "19826/19826 [==============================] - ETA: 3s - loss: 0.043 - ETA: 1s - loss: 0.018 - ETA: 1s - loss: 0.015 - ETA: 0s - loss: 0.016 - ETA: 0s - loss: 0.016 - ETA: 0s - loss: 0.016 - ETA: 0s - loss: 0.017 - ETA: 0s - loss: 0.016 - ETA: 0s - loss: 0.016 - ETA: 0s - loss: 0.015 - ETA: 0s - loss: 0.015 - ETA: 0s - loss: 0.015 - ETA: 0s - loss: 0.015 - ETA: 0s - loss: 0.015 - ETA: 0s - loss: 0.015 - ETA: 0s - loss: 0.015 - ETA: 0s - loss: 0.015 - ETA: 0s - loss: 0.015 - ETA: 0s - loss: 0.015 - ETA: 0s - loss: 0.015 - ETA: 0s - loss: 0.015 - 1s 55us/step - loss: 0.0157\n",
      "Epoch 91/100\n",
      "19826/19826 [==============================] - ETA: 1s - loss: 0.003 - ETA: 1s - loss: 0.012 - ETA: 0s - loss: 0.015 - ETA: 0s - loss: 0.012 - ETA: 0s - loss: 0.012 - ETA: 0s - loss: 0.012 - ETA: 0s - loss: 0.011 - ETA: 0s - loss: 0.011 - ETA: 0s - loss: 0.011 - ETA: 0s - loss: 0.012 - ETA: 0s - loss: 0.012 - ETA: 0s - loss: 0.012 - ETA: 0s - loss: 0.012 - ETA: 0s - loss: 0.013 - ETA: 0s - loss: 0.013 - ETA: 0s - loss: 0.013 - ETA: 0s - loss: 0.013 - ETA: 0s - loss: 0.013 - ETA: 0s - loss: 0.013 - ETA: 0s - loss: 0.013 - ETA: 0s - loss: 0.013 - 1s 53us/step - loss: 0.0134\n",
      "Epoch 92/100\n",
      "19826/19826 [==============================] - ETA: 2s - loss: 0.001 - ETA: 1s - loss: 0.007 - ETA: 0s - loss: 0.011 - ETA: 0s - loss: 0.012 - ETA: 0s - loss: 0.012 - ETA: 0s - loss: 0.011 - ETA: 0s - loss: 0.011 - ETA: 0s - loss: 0.012 - ETA: 0s - loss: 0.012 - ETA: 0s - loss: 0.012 - ETA: 0s - loss: 0.012 - ETA: 0s - loss: 0.012 - ETA: 0s - loss: 0.012 - ETA: 0s - loss: 0.011 - ETA: 0s - loss: 0.012 - ETA: 0s - loss: 0.012 - ETA: 0s - loss: 0.012 - ETA: 0s - loss: 0.012 - ETA: 0s - loss: 0.012 - ETA: 0s - loss: 0.013 - ETA: 0s - loss: 0.013 - ETA: 0s - loss: 0.013 - 1s 57us/step - loss: 0.0130\n",
      "Epoch 93/100\n",
      "19826/19826 [==============================] - ETA: 2s - loss: 0.014 - ETA: 1s - loss: 0.015 - ETA: 1s - loss: 0.011 - ETA: 0s - loss: 0.011 - ETA: 0s - loss: 0.011 - ETA: 0s - loss: 0.012 - ETA: 0s - loss: 0.012 - ETA: 0s - loss: 0.013 - ETA: 0s - loss: 0.014 - ETA: 0s - loss: 0.014 - ETA: 0s - loss: 0.013 - ETA: 0s - loss: 0.014 - ETA: 0s - loss: 0.014 - ETA: 0s - loss: 0.014 - ETA: 0s - loss: 0.015 - ETA: 0s - loss: 0.014 - ETA: 0s - loss: 0.014 - ETA: 0s - loss: 0.014 - ETA: 0s - loss: 0.015 - ETA: 0s - loss: 0.015 - ETA: 0s - loss: 0.015 - ETA: 0s - loss: 0.015 - 1s 57us/step - loss: 0.0159\n",
      "Epoch 94/100\n",
      "19826/19826 [==============================] - ETA: 2s - loss: 0.043 - ETA: 0s - loss: 0.018 - ETA: 0s - loss: 0.016 - ETA: 0s - loss: 0.018 - ETA: 0s - loss: 0.017 - ETA: 0s - loss: 0.017 - ETA: 0s - loss: 0.018 - ETA: 0s - loss: 0.018 - ETA: 0s - loss: 0.019 - ETA: 0s - loss: 0.019 - ETA: 0s - loss: 0.020 - ETA: 0s - loss: 0.019 - ETA: 0s - loss: 0.019 - ETA: 0s - loss: 0.019 - ETA: 0s - loss: 0.019 - ETA: 0s - loss: 0.019 - ETA: 0s - loss: 0.019 - ETA: 0s - loss: 0.019 - ETA: 0s - loss: 0.019 - ETA: 0s - loss: 0.019 - ETA: 0s - loss: 0.020 - ETA: 0s - loss: 0.020 - ETA: 0s - loss: 0.020 - 1s 60us/step - loss: 0.0202\n",
      "Epoch 95/100\n",
      "19826/19826 [==============================] - ETA: 1s - loss: 0.026 - ETA: 1s - loss: 0.017 - ETA: 0s - loss: 0.021 - ETA: 0s - loss: 0.019 - ETA: 0s - loss: 0.017 - ETA: 0s - loss: 0.021 - ETA: 0s - loss: 0.020 - ETA: 0s - loss: 0.019 - ETA: 0s - loss: 0.018 - ETA: 0s - loss: 0.019 - ETA: 0s - loss: 0.018 - ETA: 0s - loss: 0.018 - ETA: 0s - loss: 0.018 - ETA: 0s - loss: 0.018 - ETA: 0s - loss: 0.019 - ETA: 0s - loss: 0.019 - ETA: 0s - loss: 0.019 - ETA: 0s - loss: 0.019 - ETA: 0s - loss: 0.019 - ETA: 0s - loss: 0.019 - ETA: 0s - loss: 0.018 - ETA: 0s - loss: 0.018 - ETA: 0s - loss: 0.018 - 1s 59us/step - loss: 0.0189\n",
      "Epoch 96/100\n",
      "19826/19826 [==============================] - ETA: 2s - loss: 0.014 - ETA: 1s - loss: 0.018 - ETA: 1s - loss: 0.020 - ETA: 1s - loss: 0.020 - ETA: 1s - loss: 0.018 - ETA: 1s - loss: 0.018 - ETA: 0s - loss: 0.017 - ETA: 0s - loss: 0.016 - ETA: 0s - loss: 0.015 - ETA: 0s - loss: 0.015 - ETA: 0s - loss: 0.015 - ETA: 0s - loss: 0.014 - ETA: 0s - loss: 0.014 - ETA: 0s - loss: 0.014 - ETA: 0s - loss: 0.013 - ETA: 0s - loss: 0.013 - ETA: 0s - loss: 0.013 - ETA: 0s - loss: 0.013 - ETA: 0s - loss: 0.013 - ETA: 0s - loss: 0.013 - ETA: 0s - loss: 0.014 - ETA: 0s - loss: 0.014 - 1s 58us/step - loss: 0.0150\n",
      "Epoch 97/100\n",
      "19826/19826 [==============================] - ETA: 3s - loss: 0.017 - ETA: 1s - loss: 0.011 - ETA: 1s - loss: 0.013 - ETA: 1s - loss: 0.015 - ETA: 0s - loss: 0.013 - ETA: 0s - loss: 0.013 - ETA: 0s - loss: 0.012 - ETA: 0s - loss: 0.013 - ETA: 0s - loss: 0.014 - ETA: 0s - loss: 0.013 - ETA: 0s - loss: 0.014 - ETA: 0s - loss: 0.013 - ETA: 0s - loss: 0.013 - ETA: 0s - loss: 0.013 - ETA: 0s - loss: 0.013 - ETA: 0s - loss: 0.013 - ETA: 0s - loss: 0.013 - ETA: 0s - loss: 0.013 - ETA: 0s - loss: 0.013 - ETA: 0s - loss: 0.013 - ETA: 0s - loss: 0.013 - ETA: 0s - loss: 0.013 - ETA: 0s - loss: 0.013 - ETA: 0s - loss: 0.013 - 1s 61us/step - loss: 0.0132\n",
      "Epoch 98/100\n",
      "19826/19826 [==============================] - ETA: 2s - loss: 0.032 - ETA: 1s - loss: 0.016 - ETA: 1s - loss: 0.015 - ETA: 1s - loss: 0.016 - ETA: 0s - loss: 0.015 - ETA: 0s - loss: 0.014 - ETA: 0s - loss: 0.014 - ETA: 0s - loss: 0.015 - ETA: 0s - loss: 0.015 - ETA: 0s - loss: 0.014 - ETA: 0s - loss: 0.014 - ETA: 0s - loss: 0.014 - ETA: 0s - loss: 0.014 - ETA: 0s - loss: 0.014 - ETA: 0s - loss: 0.014 - ETA: 0s - loss: 0.014 - ETA: 0s - loss: 0.014 - ETA: 0s - loss: 0.014 - ETA: 0s - loss: 0.014 - ETA: 0s - loss: 0.014 - ETA: 0s - loss: 0.013 - ETA: 0s - loss: 0.013 - ETA: 0s - loss: 0.013 - 1s 59us/step - loss: 0.0133\n",
      "Epoch 99/100\n",
      "19826/19826 [==============================] - ETA: 1s - loss: 0.010 - ETA: 1s - loss: 0.013 - ETA: 0s - loss: 0.012 - ETA: 0s - loss: 0.014 - ETA: 0s - loss: 0.012 - ETA: 0s - loss: 0.012 - ETA: 0s - loss: 0.012 - ETA: 0s - loss: 0.011 - ETA: 0s - loss: 0.011 - ETA: 0s - loss: 0.011 - ETA: 0s - loss: 0.011 - ETA: 0s - loss: 0.013 - ETA: 0s - loss: 0.012 - ETA: 0s - loss: 0.012 - ETA: 0s - loss: 0.012 - ETA: 0s - loss: 0.012 - ETA: 0s - loss: 0.012 - ETA: 0s - loss: 0.012 - ETA: 0s - loss: 0.012 - ETA: 0s - loss: 0.012 - ETA: 0s - loss: 0.012 - ETA: 0s - loss: 0.012 - 1s 58us/step - loss: 0.0122\n",
      "Epoch 100/100\n",
      "19826/19826 [==============================] - ETA: 1s - loss: 0.019 - ETA: 1s - loss: 0.009 - ETA: 1s - loss: 0.011 - ETA: 1s - loss: 0.011 - ETA: 1s - loss: 0.012 - ETA: 1s - loss: 0.011 - ETA: 0s - loss: 0.012 - ETA: 0s - loss: 0.013 - ETA: 0s - loss: 0.013 - ETA: 0s - loss: 0.013 - ETA: 0s - loss: 0.013 - ETA: 0s - loss: 0.012 - ETA: 0s - loss: 0.012 - ETA: 0s - loss: 0.012 - ETA: 0s - loss: 0.012 - ETA: 0s - loss: 0.012 - ETA: 0s - loss: 0.012 - ETA: 0s - loss: 0.012 - ETA: 0s - loss: 0.013 - ETA: 0s - loss: 0.013 - ETA: 0s - loss: 0.013 - ETA: 0s - loss: 0.013 - ETA: 0s - loss: 0.013 - 1s 60us/step - loss: 0.0140\n"
     ]
    }
   ],
   "source": [
    "from src.models import train_model\n",
    "model_hate_speech_MLP_lg = train_model.Network_training(features_lg, labels_hate)"
   ]
  },
  {
   "cell_type": "code",
   "execution_count": 11,
   "metadata": {},
   "outputs": [],
   "source": [
    "test = pd.read_csv(cwd + '/data/raw/test.tsv', sep='\\t', encoding='latin_1', header=None)\n",
    "test.columns = ['hate_speech', 'off_lang', 'text']\n",
    "from tqdm import tqdm"
   ]
  },
  {
   "cell_type": "code",
   "execution_count": 29,
   "metadata": {},
   "outputs": [
    {
     "name": "stderr",
     "output_type": "stream",
     "text": [
      "100%|████████████████████████████████████████████████████████████████████████████████████████████████████████████████████████████████████████| 4957/4957 [00:53<00:00, 92.83it/s]\n"
     ]
    }
   ],
   "source": [
    "nlp_model = en_core_web_lg.load()\n",
    "\n",
    "features_test_lg, labels_test_gs_lang_lg, labels_test_gs_hate_lg = build_features.make_features(test, nlp_model)"
   ]
  },
  {
   "cell_type": "code",
   "execution_count": 15,
   "metadata": {},
   "outputs": [],
   "source": [
    "from src.models import predict_model\n",
    "model_hate_speech_MLP_lg = predict_model.prediction_correlation(features_test_lg,labels_test_gs_hate_lg, model_hate_speech_MLP_lg)"
   ]
  },
  {
   "cell_type": "code",
   "execution_count": 16,
   "metadata": {},
   "outputs": [
    {
     "name": "stdout",
     "output_type": "stream",
     "text": [
      "(0.42676580907967543, 1.2599570961675437e-218)\n"
     ]
    }
   ],
   "source": [
    "print(model_hate_speech_MLP_lg)"
   ]
  },
  {
   "cell_type": "code",
   "execution_count": null,
   "metadata": {},
   "outputs": [],
   "source": []
  }
 ],
 "metadata": {
  "kernelspec": {
   "display_name": "Python [conda env:Medium] *",
   "language": "python",
   "name": "conda-env-Medium-py"
  },
  "language_info": {
   "codemirror_mode": {
    "name": "ipython",
    "version": 3
   },
   "file_extension": ".py",
   "mimetype": "text/x-python",
   "name": "python",
   "nbconvert_exporter": "python",
   "pygments_lexer": "ipython3",
   "version": "3.7.7"
  }
 },
 "nbformat": 4,
 "nbformat_minor": 4
}
